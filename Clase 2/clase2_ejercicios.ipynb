{
 "cells": [
  {
   "cell_type": "markdown",
   "id": "2b6c62d7",
   "metadata": {},
   "source": [
    "#  <CENTER>INTRODUCCIÓN A PYTHON - CEFIP<CENTER>\n",
    "   \n",
    "## <CENTER>OCTUBRE 2023<CENTER>"
   ]
  },
  {
   "cell_type": "markdown",
   "id": "4a4f6a14",
   "metadata": {},
   "source": [
    "# <CENTER> Repaso clase anterior\n",
    "\n",
    "- Anaconda, Jupyter Notebook, GitHub.\n",
    "- Tipos de datos\n",
    "- Operaciones con datos\n",
    "- Variables\n",
    "- Funciones\n",
    "- Condicionales\n",
    "- Módulos\n"
   ]
  },
  {
   "cell_type": "markdown",
   "id": "01afcc3c",
   "metadata": {},
   "source": [
    "# <CENTER> BUCLES\n",
    "\n",
    "Existen dos tipos de bucles comunmente usados en python, los `for` loops y los `while` loops. "
   ]
  },
  {
   "cell_type": "markdown",
   "id": "f32faeff",
   "metadata": {},
   "source": [
    "## FOR LOOPS\n",
    "\n",
    "Con los `for` loops se desea iterar sobre una secuencia (como una lista, una tupla, una cadena de texto o un rango numérico). Serán muy similares a los loops que solemos usar en Stata (`foreach`, `forvalues`)."
   ]
  },
  {
   "cell_type": "code",
   "execution_count": 2,
   "id": "684bd2b2",
   "metadata": {},
   "outputs": [
    {
     "name": "stdout",
     "output_type": "stream",
     "text": [
      "La suma de los números es 7 hasta 7\n",
      "La suma de los números es 12 hasta 5\n",
      "La suma de los números es 18 hasta 6\n",
      "La suma de los números es 33 hasta 15\n",
      "La suma de los números es 53 hasta 20\n"
     ]
    }
   ],
   "source": [
    "numeros=[7,5,6,15,20]\n",
    "y=0\n",
    "for i in numeros: \n",
    "    y+=i\n",
    "    print(f\"La suma de los números es {y} hasta {i}\")    "
   ]
  },
  {
   "cell_type": "code",
   "execution_count": 3,
   "id": "63dcdab0",
   "metadata": {},
   "outputs": [
    {
     "name": "stdout",
     "output_type": "stream",
     "text": [
      "7\n",
      "5\n",
      "6\n",
      "15\n",
      "20\n"
     ]
    }
   ],
   "source": [
    "numeros=[7,5,6,15,20]\n",
    "y=0\n",
    "for i in numeros: \n",
    "    y+=i\n",
    "    print(f\"{i}\")   "
   ]
  },
  {
   "cell_type": "markdown",
   "id": "42841cb8",
   "metadata": {},
   "source": [
    "**Notar:** en el bloque anterior iteramos sobre una **lista** cuyos valores estaban predeterminados. Cualquier tipo de lista puede ser usada para un ciclo `for`.\n",
    "\n",
    "**Notar 2:** poniendo la f adentro del print pudimos insertar valores de variables u expresiones directamente en una cadena de texto sin tener que concatenar manualmente las partes de la cadena."
   ]
  },
  {
   "cell_type": "code",
   "execution_count": 4,
   "id": "0727c194",
   "metadata": {
    "scrolled": true
   },
   "outputs": [
    {
     "name": "stdout",
     "output_type": "stream",
     "text": [
      "0\n",
      "2\n",
      "4\n",
      "6\n",
      "8\n",
      "10\n",
      "12\n",
      "14\n",
      "Estoy fuera del bucle\n"
     ]
    }
   ],
   "source": [
    "for x in range(0,16,2): \n",
    "    print(x)\n",
    "print(\"Estoy fuera del bucle\")"
   ]
  },
  {
   "cell_type": "markdown",
   "id": "48451078",
   "metadata": {},
   "source": [
    "**Recordar**: range(desde, hasta, paso) no incluye el `hasta`. \n",
    "\n",
    "Como se ve, puedo iterar usando otras letras, no solo i.\n"
   ]
  },
  {
   "cell_type": "code",
   "execution_count": 5,
   "id": "80dc1afd",
   "metadata": {},
   "outputs": [
    {
     "name": "stdout",
     "output_type": "stream",
     "text": [
      "¿Cuántas veces quiere que le salude? 3\n",
      "Hola Hola Hola \n",
      "Adiós\n"
     ]
    }
   ],
   "source": [
    "veces = int(input(\"¿Cuántas veces quiere que le salude? \"))\n",
    "for i in range(veces):\n",
    "    print(\"Hola \", end=\"\")\n",
    "print()\n",
    "print(\"Adiós\")"
   ]
  },
  {
   "cell_type": "markdown",
   "id": "0c89b870",
   "metadata": {},
   "source": [
    "**Notar:** la función `input()` permite que tu programa interactúe con el usuario, solicitando información que el usuario debe proporcionar a través del teclado.\n",
    "\n",
    "**Notar 2:** `input()` siempre devuelve una cadena de caracteres (string), al usar `int(input())`,  estamos convirtiendo esa cadena en un número entero. "
   ]
  },
  {
   "cell_type": "code",
   "execution_count": 6,
   "id": "2ff25b88",
   "metadata": {},
   "outputs": [
    {
     "name": "stdout",
     "output_type": "stream",
     "text": [
      "1 -2\n",
      "2 -1\n",
      "3 0\n",
      "4 1\n"
     ]
    }
   ],
   "source": [
    "#Nos puede interesar ver la posición además del número sobre el que itera:\n",
    "for indice, x in enumerate(range(-2,2), start=1):\n",
    "    print(indice, x)"
   ]
  },
  {
   "cell_type": "markdown",
   "id": "fa38f1f1",
   "metadata": {},
   "source": [
    "El índice generado por enumerate() comienza en 0 por defecto.\n",
    "\n",
    "Con `start` le indicamos un valor inicial  diferente. \n",
    "\n",
    "La función `enumerate()` es útil cuando necesitas tanto el valor como el índice de los elementos en una secuencia durante la iteración."
   ]
  },
  {
   "cell_type": "code",
   "execution_count": 7,
   "id": "4be4bc71",
   "metadata": {},
   "outputs": [
    {
     "name": "stdout",
     "output_type": "stream",
     "text": [
      "[2, 4, 6, 8, 10, 12, 14, 16, 18, 20]\n"
     ]
    }
   ],
   "source": [
    "tabla_2 = [x*2 for x in range(1,11)]\n",
    "\n",
    "print(tabla_2)"
   ]
  },
  {
   "cell_type": "markdown",
   "id": "c87a0a30",
   "metadata": {},
   "source": [
    "El ejemplo anterior nos muestra que podemos crear una lista por ejemplo a partir de un bucle. Con esta sintaxis también podemos crear una tupla, diccionario, etc."
   ]
  },
  {
   "cell_type": "markdown",
   "id": "cbb6773f",
   "metadata": {},
   "source": [
    "## WHILE LOOPS\n",
    "\n",
    "Los utilizaremos cuando el número de iteraciones no es conocido al comenzar. Si bien es Stata también existen, no los usamos tan seguido. "
   ]
  },
  {
   "cell_type": "markdown",
   "id": "37bbf410",
   "metadata": {},
   "source": [
    "Para comenzar aprovechemos para importar un módulo que puede ser de utilidad `random`. En este caso lo usaremos para partir de un número aleatorio entero. "
   ]
  },
  {
   "cell_type": "code",
   "execution_count": 9,
   "id": "ed4c6251",
   "metadata": {},
   "outputs": [],
   "source": [
    "import random"
   ]
  },
  {
   "cell_type": "code",
   "execution_count": 14,
   "id": "65720fc5",
   "metadata": {},
   "outputs": [
    {
     "name": "stdout",
     "output_type": "stream",
     "text": [
      "¿Cuál es su número preferido? 12\n",
      "Salió mi número preferido :)\n",
      "¡Probé 74 veces!\n"
     ]
    }
   ],
   "source": [
    "n = 0\n",
    "favorite = int(input(\"¿Cuál es su número preferido? \"))\n",
    "while n < 100:\n",
    "    n += 1\n",
    "    draw = random.randint(1, 49) # e.g. German lottery\n",
    "    if draw == favorite:\n",
    "        print(\"Salió mi número preferido :)\")\n",
    "        break\n",
    "else:\n",
    "    print(\"Mi número preferido no apareció:(\")\n",
    "print(f\"¡Probé {n} veces!\")\n"
   ]
  },
  {
   "cell_type": "markdown",
   "id": "79205a15",
   "metadata": {},
   "source": [
    "**Break**: Cuando se encuentra una declaración `break` dentro de un bucle, el programa sale  del bucle y continúa ejecutando el código que sigue después del bucle."
   ]
  },
  {
   "cell_type": "markdown",
   "id": "2b1c1b96",
   "metadata": {},
   "source": [
    "# <CENTER>TRABAJAR CON DATOS EN PYTHON\n",
    "    \n",
    "# <CENTER> PANDAS\n",
    "    \n",
    "pandas es una biblioteca esencial para la manipulación y análisis de datos en Python debido a su facilidad de uso, flexibilidad y potencia. Se integra con otras herramientas de ciencia de datos y machine learning."
   ]
  },
  {
   "cell_type": "code",
   "execution_count": 17,
   "id": "c62b1129",
   "metadata": {},
   "outputs": [
    {
     "name": "stdout",
     "output_type": "stream",
     "text": [
      "Requirement already satisfied: xlwt in c:\\users\\isidr\\anaconda3\\lib\\site-packages (1.3.0)\n",
      "Requirement already satisfied: pandas in c:\\users\\isidr\\anaconda3\\lib\\site-packages (2.0.3)\n",
      "Requirement already satisfied: python-dateutil>=2.8.2 in c:\\users\\isidr\\anaconda3\\lib\\site-packages (from pandas) (2.8.2)\n",
      "Requirement already satisfied: pytz>=2020.1 in c:\\users\\isidr\\anaconda3\\lib\\site-packages (from pandas) (2023.3.post1)\n",
      "Requirement already satisfied: tzdata>=2022.1 in c:\\users\\isidr\\anaconda3\\lib\\site-packages (from pandas) (2023.3)\n",
      "Requirement already satisfied: numpy>=1.21.0 in c:\\users\\isidr\\anaconda3\\lib\\site-packages (from pandas) (1.24.3)\n",
      "Requirement already satisfied: six>=1.5 in c:\\users\\isidr\\anaconda3\\lib\\site-packages (from python-dateutil>=2.8.2->pandas) (1.16.0)\n"
     ]
    }
   ],
   "source": [
    "!pip install xlwt\n",
    "!pip install pandas"
   ]
  },
  {
   "cell_type": "markdown",
   "id": "d6010577",
   "metadata": {},
   "source": [
    "Lo primero que tenemos que hacer con una librería es instalarla en caso de que no esté (Pandas es una de las librerías que se encuentra preinstalada con Anaconda). No es necesario volverlo a instalar si ya lo tenemos instalado. "
   ]
  },
  {
   "cell_type": "code",
   "execution_count": 19,
   "id": "ff5cc654",
   "metadata": {},
   "outputs": [],
   "source": [
    "import pandas as pd\n",
    "import numpy as np"
   ]
  },
  {
   "cell_type": "code",
   "execution_count": 20,
   "id": "e2731964",
   "metadata": {},
   "outputs": [
    {
     "data": {
      "text/plain": [
       "['ArrowDtype',\n",
       " 'BooleanDtype',\n",
       " 'Categorical',\n",
       " 'CategoricalDtype',\n",
       " 'CategoricalIndex',\n",
       " 'DataFrame',\n",
       " 'DateOffset',\n",
       " 'DatetimeIndex',\n",
       " 'DatetimeTZDtype',\n",
       " 'ExcelFile',\n",
       " 'ExcelWriter',\n",
       " 'Flags',\n",
       " 'Float32Dtype',\n",
       " 'Float64Dtype',\n",
       " 'Grouper',\n",
       " 'HDFStore',\n",
       " 'Index',\n",
       " 'IndexSlice',\n",
       " 'Int16Dtype',\n",
       " 'Int32Dtype',\n",
       " 'Int64Dtype',\n",
       " 'Int8Dtype',\n",
       " 'Interval',\n",
       " 'IntervalDtype',\n",
       " 'IntervalIndex',\n",
       " 'MultiIndex',\n",
       " 'NA',\n",
       " 'NaT',\n",
       " 'NamedAgg',\n",
       " 'Period',\n",
       " 'PeriodDtype',\n",
       " 'PeriodIndex',\n",
       " 'RangeIndex',\n",
       " 'Series',\n",
       " 'SparseDtype',\n",
       " 'StringDtype',\n",
       " 'Timedelta',\n",
       " 'TimedeltaIndex',\n",
       " 'Timestamp',\n",
       " 'UInt16Dtype',\n",
       " 'UInt32Dtype',\n",
       " 'UInt64Dtype',\n",
       " 'UInt8Dtype',\n",
       " '__all__',\n",
       " '__builtins__',\n",
       " '__cached__',\n",
       " '__doc__',\n",
       " '__docformat__',\n",
       " '__file__',\n",
       " '__git_version__',\n",
       " '__loader__',\n",
       " '__name__',\n",
       " '__package__',\n",
       " '__path__',\n",
       " '__spec__',\n",
       " '__version__',\n",
       " '_config',\n",
       " '_is_numpy_dev',\n",
       " '_libs',\n",
       " '_testing',\n",
       " '_typing',\n",
       " '_version',\n",
       " 'annotations',\n",
       " 'api',\n",
       " 'array',\n",
       " 'arrays',\n",
       " 'bdate_range',\n",
       " 'compat',\n",
       " 'concat',\n",
       " 'core',\n",
       " 'crosstab',\n",
       " 'cut',\n",
       " 'date_range',\n",
       " 'describe_option',\n",
       " 'errors',\n",
       " 'eval',\n",
       " 'factorize',\n",
       " 'from_dummies',\n",
       " 'get_dummies',\n",
       " 'get_option',\n",
       " 'infer_freq',\n",
       " 'interval_range',\n",
       " 'io',\n",
       " 'isna',\n",
       " 'isnull',\n",
       " 'json_normalize',\n",
       " 'lreshape',\n",
       " 'melt',\n",
       " 'merge',\n",
       " 'merge_asof',\n",
       " 'merge_ordered',\n",
       " 'notna',\n",
       " 'notnull',\n",
       " 'offsets',\n",
       " 'option_context',\n",
       " 'options',\n",
       " 'pandas',\n",
       " 'period_range',\n",
       " 'pivot',\n",
       " 'pivot_table',\n",
       " 'plotting',\n",
       " 'qcut',\n",
       " 'read_clipboard',\n",
       " 'read_csv',\n",
       " 'read_excel',\n",
       " 'read_feather',\n",
       " 'read_fwf',\n",
       " 'read_gbq',\n",
       " 'read_hdf',\n",
       " 'read_html',\n",
       " 'read_json',\n",
       " 'read_orc',\n",
       " 'read_parquet',\n",
       " 'read_pickle',\n",
       " 'read_sas',\n",
       " 'read_spss',\n",
       " 'read_sql',\n",
       " 'read_sql_query',\n",
       " 'read_sql_table',\n",
       " 'read_stata',\n",
       " 'read_table',\n",
       " 'read_xml',\n",
       " 'reset_option',\n",
       " 'set_eng_float_format',\n",
       " 'set_option',\n",
       " 'show_versions',\n",
       " 'test',\n",
       " 'testing',\n",
       " 'timedelta_range',\n",
       " 'to_datetime',\n",
       " 'to_numeric',\n",
       " 'to_pickle',\n",
       " 'to_timedelta',\n",
       " 'tseries',\n",
       " 'unique',\n",
       " 'util',\n",
       " 'value_counts',\n",
       " 'wide_to_long']"
      ]
     },
     "execution_count": 20,
     "metadata": {},
     "output_type": "execute_result"
    }
   ],
   "source": [
    "dir(pd)"
   ]
  },
  {
   "cell_type": "markdown",
   "id": "d58b9b15",
   "metadata": {},
   "source": [
    "Una vez instalado debemos importar la biblioteca, esto hay que hacerlo  **todas las veces que abrimos el notebook**.\n",
    "\n",
    "**pd** es la abreviatura (o alias) tradicional para pandas en la literatura. "
   ]
  },
  {
   "cell_type": "markdown",
   "id": "5d2da68b",
   "metadata": {},
   "source": [
    "# Estructuras de datos de Pandas:\n",
    "## Series\n",
    "\n",
    "- Será una columna unidimensional, donde podemos tener todo tipo de datos.\n",
    "\n",
    "- Se suele mostrar con los índices a la izquierda, que por default van de 0 a N-1. "
   ]
  },
  {
   "cell_type": "code",
   "execution_count": 25,
   "id": "9128f347",
   "metadata": {},
   "outputs": [
    {
     "data": {
      "text/plain": [
       "0    impuestos provinciales\n",
       "1     impuestos municipales\n",
       "2      tarifas de servicios\n",
       "3    gasto por jurisdiccion\n",
       "dtype: object"
      ]
     },
     "execution_count": 25,
     "metadata": {},
     "output_type": "execute_result"
    }
   ],
   "source": [
    "#Comencemos por crear una lista en Pandas\n",
    "\n",
    "proyectos_CEFIP=pd.Series([\"impuestos provinciales\", \"impuestos municipales\", \"tarifas de servicios\", \"gasto por jurisdiccion\"])\n",
    "proyectos_CEFIP\n"
   ]
  },
  {
   "cell_type": "markdown",
   "id": "2e76bfe5",
   "metadata": {},
   "source": [
    "La sintaxis de creación de series sigue la estructura: \n",
    "\n",
    "`s = pd.Series(datos, index=index)`\n",
    "\n",
    "En el caso anterior, no asignamos nada al `index`, y le asignó el default.\n",
    "\n"
   ]
  },
  {
   "cell_type": "code",
   "execution_count": 26,
   "id": "38a06e46",
   "metadata": {},
   "outputs": [
    {
     "data": {
      "text/plain": [
       "a    impuestos provinciales\n",
       "b     impuestos municipales\n",
       "a      tarifas de servicios\n",
       "dtype: object"
      ]
     },
     "execution_count": 26,
     "metadata": {},
     "output_type": "execute_result"
    }
   ],
   "source": [
    "proyectos_CEFIP2=pd.Series([\"impuestos provinciales\", \"impuestos municipales\", \"tarifas de servicios\"], index=[\"a\", \"b\", \"a\"])\n",
    "proyectos_CEFIP2"
   ]
  },
  {
   "cell_type": "code",
   "execution_count": 27,
   "id": "f93a0ec8",
   "metadata": {},
   "outputs": [
    {
     "data": {
      "text/plain": [
       "0       5 provincias argentinas\n",
       "1    135 municipios bonaerenses\n",
       "2       Empresas distribuidoras\n",
       "dtype: object"
      ]
     },
     "execution_count": 27,
     "metadata": {},
     "output_type": "execute_result"
    }
   ],
   "source": [
    "unidades_geograficas=pd.Series([\"5 provincias argentinas\", \"135 municipios bonaerenses\", \"Empresas distribuidoras\"])\n",
    "unidades_geograficas"
   ]
  },
  {
   "cell_type": "markdown",
   "id": "3563fcf7",
   "metadata": {},
   "source": [
    "IG: matchea por índice, necesariamente deben tener el mismo formato (integer, string, etc)"
   ]
  },
  {
   "cell_type": "markdown",
   "id": "54953ee8",
   "metadata": {},
   "source": [
    "## DataFrames\n",
    "\n",
    "Los **DataFrames** son una estructura de datos tabular bidimensional con etiquetas en las línea y columnas. Son la estructura más común en Pandas.\n",
    "\n",
    "\n",
    "Como las Series, los DataFrames son capaces de almacenar cualquier tipo de datos y cada columna puede tener un tipo distinto. La forma básica de\n",
    "creación de un DataFrame es:\n",
    "\n",
    "`df = pd.DataFrame(datos, index=index, columns=columns)`\n",
    "\n",
    "El argumento datos puede ser por ejemplo un diccionario, una lista, una Series u otro DataFrame."
   ]
  },
  {
   "cell_type": "code",
   "execution_count": 30,
   "id": "0fc86685",
   "metadata": {},
   "outputs": [],
   "source": [
    "# Creando un dataframe de autos y colores.\n",
    "data_proyectos = pd.DataFrame({\"Proyecto\": proyectos_CEFIP, \n",
    "                               \"Unidades geográficas\": unidades_geograficas})"
   ]
  },
  {
   "cell_type": "code",
   "execution_count": 31,
   "id": "1406422c",
   "metadata": {},
   "outputs": [
    {
     "data": {
      "text/html": [
       "<div>\n",
       "<style scoped>\n",
       "    .dataframe tbody tr th:only-of-type {\n",
       "        vertical-align: middle;\n",
       "    }\n",
       "\n",
       "    .dataframe tbody tr th {\n",
       "        vertical-align: top;\n",
       "    }\n",
       "\n",
       "    .dataframe thead th {\n",
       "        text-align: right;\n",
       "    }\n",
       "</style>\n",
       "<table border=\"1\" class=\"dataframe\">\n",
       "  <thead>\n",
       "    <tr style=\"text-align: right;\">\n",
       "      <th></th>\n",
       "      <th>Proyecto</th>\n",
       "      <th>Unidades geográficas</th>\n",
       "    </tr>\n",
       "  </thead>\n",
       "  <tbody>\n",
       "    <tr>\n",
       "      <th>0</th>\n",
       "      <td>impuestos provinciales</td>\n",
       "      <td>5 provincias argentinas</td>\n",
       "    </tr>\n",
       "    <tr>\n",
       "      <th>1</th>\n",
       "      <td>impuestos municipales</td>\n",
       "      <td>135 municipios bonaerenses</td>\n",
       "    </tr>\n",
       "    <tr>\n",
       "      <th>2</th>\n",
       "      <td>tarifas de servicios</td>\n",
       "      <td>Empresas distribuidoras</td>\n",
       "    </tr>\n",
       "    <tr>\n",
       "      <th>3</th>\n",
       "      <td>gasto por jurisdiccion</td>\n",
       "      <td>NaN</td>\n",
       "    </tr>\n",
       "  </tbody>\n",
       "</table>\n",
       "</div>"
      ],
      "text/plain": [
       "                 Proyecto        Unidades geográficas\n",
       "0  impuestos provinciales     5 provincias argentinas\n",
       "1   impuestos municipales  135 municipios bonaerenses\n",
       "2    tarifas de servicios     Empresas distribuidoras\n",
       "3  gasto por jurisdiccion                         NaN"
      ]
     },
     "execution_count": 31,
     "metadata": {},
     "output_type": "execute_result"
    }
   ],
   "source": [
    "data_proyectos"
   ]
  },
  {
   "cell_type": "markdown",
   "id": "60bad3c1",
   "metadata": {},
   "source": [
    "### Los diccionarios son parecidos a las listas pero cada elemento implica clave-valor"
   ]
  },
  {
   "cell_type": "markdown",
   "id": "fd2762b8",
   "metadata": {},
   "source": [
    "Notar que cuando los índices no coinciden (sea el default como en este caso o en otro), es decir que no puede matchear las unidades, encontramos un valor missing, que en Pandas la identificaremos con `NaN`"
   ]
  },
  {
   "cell_type": "code",
   "execution_count": 32,
   "id": "6e3edbe8",
   "metadata": {
    "scrolled": true
   },
   "outputs": [
    {
     "data": {
      "text/html": [
       "<div>\n",
       "<style scoped>\n",
       "    .dataframe tbody tr th:only-of-type {\n",
       "        vertical-align: middle;\n",
       "    }\n",
       "\n",
       "    .dataframe tbody tr th {\n",
       "        vertical-align: top;\n",
       "    }\n",
       "\n",
       "    .dataframe thead th {\n",
       "        text-align: right;\n",
       "    }\n",
       "</style>\n",
       "<table border=\"1\" class=\"dataframe\">\n",
       "  <thead>\n",
       "    <tr style=\"text-align: right;\">\n",
       "      <th></th>\n",
       "      <th>Proyecto</th>\n",
       "      <th>Poblacion</th>\n",
       "      <th>Act. Económica</th>\n",
       "    </tr>\n",
       "  </thead>\n",
       "  <tbody>\n",
       "    <tr>\n",
       "      <th>0</th>\n",
       "      <td>Adolfo Alsina</td>\n",
       "      <td>17460</td>\n",
       "      <td>Agricultura</td>\n",
       "    </tr>\n",
       "    <tr>\n",
       "      <th>1</th>\n",
       "      <td>Alberti</td>\n",
       "      <td>12650</td>\n",
       "      <td>Agricultura</td>\n",
       "    </tr>\n",
       "    <tr>\n",
       "      <th>2</th>\n",
       "      <td>Arrecifes</td>\n",
       "      <td>32229</td>\n",
       "      <td>Agricultura</td>\n",
       "    </tr>\n",
       "    <tr>\n",
       "      <th>3</th>\n",
       "      <td>Avellaneda</td>\n",
       "      <td>369556</td>\n",
       "      <td>Manufactura</td>\n",
       "    </tr>\n",
       "  </tbody>\n",
       "</table>\n",
       "</div>"
      ],
      "text/plain": [
       "        Proyecto  Poblacion Act. Económica\n",
       "0  Adolfo Alsina      17460    Agricultura\n",
       "1        Alberti      12650    Agricultura\n",
       "2      Arrecifes      32229    Agricultura\n",
       "3     Avellaneda     369556    Manufactura"
      ]
     },
     "execution_count": 32,
     "metadata": {},
     "output_type": "execute_result"
    }
   ],
   "source": [
    "data_municipios = pd.DataFrame({\"Proyecto\": [\"Adolfo Alsina\",\"Alberti\", \"Arrecifes\", \"Avellaneda\"],\n",
    "                                \"Poblacion\": [17460, 12650, 32229, 369556],\n",
    "                               \"Act. Económica\": [\"Agricultura\", \"Agricultura\", \"Agricultura\", \"Manufactura\"]})\n",
    "data_municipios"
   ]
  },
  {
   "cell_type": "markdown",
   "id": "af8dd3aa",
   "metadata": {},
   "source": [
    "En el ejemplo anteriopr creamos el DataFrame a partir de un diccionario de listas. Se asingó el índice por default (como pasaba con la serie). "
   ]
  },
  {
   "cell_type": "markdown",
   "id": "69de8eba",
   "metadata": {},
   "source": [
    "## Importar datos\n",
    "\n",
    "Importar datos es una de las formas de crear un dataframe, a partir de un archivo ya existente (en formato csv, xls, dta, etc.). "
   ]
  },
  {
   "cell_type": "code",
   "execution_count": 33,
   "id": "986f2235",
   "metadata": {},
   "outputs": [],
   "source": [
    "dataset=pd.read_csv(r\"C:\\Users\\isidr\\Dropbox\\GitHub\\CEFIP\\Clase 2\\db.csv\", sep=\";\")"
   ]
  },
  {
   "cell_type": "code",
   "execution_count": 34,
   "id": "884c78f5",
   "metadata": {},
   "outputs": [
    {
     "data": {
      "text/html": [
       "<div>\n",
       "<style scoped>\n",
       "    .dataframe tbody tr th:only-of-type {\n",
       "        vertical-align: middle;\n",
       "    }\n",
       "\n",
       "    .dataframe tbody tr th {\n",
       "        vertical-align: top;\n",
       "    }\n",
       "\n",
       "    .dataframe thead th {\n",
       "        text-align: right;\n",
       "    }\n",
       "</style>\n",
       "<table border=\"1\" class=\"dataframe\">\n",
       "  <thead>\n",
       "    <tr style=\"text-align: right;\">\n",
       "      <th></th>\n",
       "      <th>Nombre</th>\n",
       "      <th>Motor</th>\n",
       "      <th>Año</th>\n",
       "      <th>Kilometraje</th>\n",
       "      <th>Cero_km</th>\n",
       "      <th>Accesorios</th>\n",
       "      <th>Valor</th>\n",
       "    </tr>\n",
       "  </thead>\n",
       "  <tbody>\n",
       "    <tr>\n",
       "      <th>0</th>\n",
       "      <td>Jetta Variant</td>\n",
       "      <td>Motor 4.0 Turbo</td>\n",
       "      <td>2003</td>\n",
       "      <td>44410.0</td>\n",
       "      <td>False</td>\n",
       "      <td>['Llantas de aleación', 'Cerraduras eléctricas...</td>\n",
       "      <td>17615.73</td>\n",
       "    </tr>\n",
       "    <tr>\n",
       "      <th>1</th>\n",
       "      <td>Passat</td>\n",
       "      <td>Motor Diesel</td>\n",
       "      <td>1991</td>\n",
       "      <td>5712.0</td>\n",
       "      <td>False</td>\n",
       "      <td>['Pantalla multimedia', 'Techo panorámico', 'F...</td>\n",
       "      <td>21232.39</td>\n",
       "    </tr>\n",
       "    <tr>\n",
       "      <th>2</th>\n",
       "      <td>Crossfox</td>\n",
       "      <td>Motor Diesel V8</td>\n",
       "      <td>1990</td>\n",
       "      <td>37123.0</td>\n",
       "      <td>False</td>\n",
       "      <td>['Piloto automático', 'Control de estabilidad'...</td>\n",
       "      <td>14566.43</td>\n",
       "    </tr>\n",
       "    <tr>\n",
       "      <th>3</th>\n",
       "      <td>DS5</td>\n",
       "      <td>Motor 2.4 Turbo</td>\n",
       "      <td>2020</td>\n",
       "      <td>NaN</td>\n",
       "      <td>True</td>\n",
       "      <td>['Cerraduras eléctricas', '4 X 4', 'Vidrios el...</td>\n",
       "      <td>24909.81</td>\n",
       "    </tr>\n",
       "    <tr>\n",
       "      <th>4</th>\n",
       "      <td>Aston Martin DB4</td>\n",
       "      <td>Motor 2.4 Turbo</td>\n",
       "      <td>2006</td>\n",
       "      <td>25757.0</td>\n",
       "      <td>False</td>\n",
       "      <td>['Llantas de aleación', '4 X 4', 'Pantalla mul...</td>\n",
       "      <td>18522.42</td>\n",
       "    </tr>\n",
       "    <tr>\n",
       "      <th>...</th>\n",
       "      <td>...</td>\n",
       "      <td>...</td>\n",
       "      <td>...</td>\n",
       "      <td>...</td>\n",
       "      <td>...</td>\n",
       "      <td>...</td>\n",
       "      <td>...</td>\n",
       "    </tr>\n",
       "    <tr>\n",
       "      <th>253</th>\n",
       "      <td>Phantom 2013</td>\n",
       "      <td>Motor V8</td>\n",
       "      <td>2014</td>\n",
       "      <td>27505.0</td>\n",
       "      <td>False</td>\n",
       "      <td>['Control de estabilidad', 'Piloto automático'...</td>\n",
       "      <td>10351.92</td>\n",
       "    </tr>\n",
       "    <tr>\n",
       "      <th>254</th>\n",
       "      <td>Cadillac Ciel concept</td>\n",
       "      <td>Motor V8</td>\n",
       "      <td>1991</td>\n",
       "      <td>29981.0</td>\n",
       "      <td>False</td>\n",
       "      <td>['Bancos de cuero', 'Tablero digital', 'Sensor...</td>\n",
       "      <td>10333.41</td>\n",
       "    </tr>\n",
       "    <tr>\n",
       "      <th>255</th>\n",
       "      <td>Clase GLK</td>\n",
       "      <td>Motor 5.0 V8 Bi-Turbo</td>\n",
       "      <td>2002</td>\n",
       "      <td>52637.0</td>\n",
       "      <td>False</td>\n",
       "      <td>['Llantas de aleación', 'Control de tracción',...</td>\n",
       "      <td>13786.81</td>\n",
       "    </tr>\n",
       "    <tr>\n",
       "      <th>256</th>\n",
       "      <td>Aston Martin DB5</td>\n",
       "      <td>Motor Diesel</td>\n",
       "      <td>1996</td>\n",
       "      <td>7685.0</td>\n",
       "      <td>False</td>\n",
       "      <td>['Aire acondicionado', '4 X 4', 'Cambio automá...</td>\n",
       "      <td>24422.18</td>\n",
       "    </tr>\n",
       "    <tr>\n",
       "      <th>257</th>\n",
       "      <td>Macan</td>\n",
       "      <td>Motor Diesel V6</td>\n",
       "      <td>1992</td>\n",
       "      <td>50188.0</td>\n",
       "      <td>False</td>\n",
       "      <td>['Pantalla multimedia', 'Techo panorámico', 'V...</td>\n",
       "      <td>18076.29</td>\n",
       "    </tr>\n",
       "  </tbody>\n",
       "</table>\n",
       "<p>258 rows × 7 columns</p>\n",
       "</div>"
      ],
      "text/plain": [
       "                    Nombre                  Motor   Año  Kilometraje  Cero_km  \\\n",
       "0            Jetta Variant        Motor 4.0 Turbo  2003      44410.0    False   \n",
       "1                   Passat           Motor Diesel  1991       5712.0    False   \n",
       "2                 Crossfox        Motor Diesel V8  1990      37123.0    False   \n",
       "3                      DS5        Motor 2.4 Turbo  2020          NaN     True   \n",
       "4         Aston Martin DB4        Motor 2.4 Turbo  2006      25757.0    False   \n",
       "..                     ...                    ...   ...          ...      ...   \n",
       "253           Phantom 2013               Motor V8  2014      27505.0    False   \n",
       "254  Cadillac Ciel concept               Motor V8  1991      29981.0    False   \n",
       "255              Clase GLK  Motor 5.0 V8 Bi-Turbo  2002      52637.0    False   \n",
       "256       Aston Martin DB5           Motor Diesel  1996       7685.0    False   \n",
       "257                  Macan        Motor Diesel V6  1992      50188.0    False   \n",
       "\n",
       "                                            Accesorios     Valor  \n",
       "0    ['Llantas de aleación', 'Cerraduras eléctricas...  17615.73  \n",
       "1    ['Pantalla multimedia', 'Techo panorámico', 'F...  21232.39  \n",
       "2    ['Piloto automático', 'Control de estabilidad'...  14566.43  \n",
       "3    ['Cerraduras eléctricas', '4 X 4', 'Vidrios el...  24909.81  \n",
       "4    ['Llantas de aleación', '4 X 4', 'Pantalla mul...  18522.42  \n",
       "..                                                 ...       ...  \n",
       "253  ['Control de estabilidad', 'Piloto automático'...  10351.92  \n",
       "254  ['Bancos de cuero', 'Tablero digital', 'Sensor...  10333.41  \n",
       "255  ['Llantas de aleación', 'Control de tracción',...  13786.81  \n",
       "256  ['Aire acondicionado', '4 X 4', 'Cambio automá...  24422.18  \n",
       "257  ['Pantalla multimedia', 'Techo panorámico', 'V...  18076.29  \n",
       "\n",
       "[258 rows x 7 columns]"
      ]
     },
     "execution_count": 34,
     "metadata": {},
     "output_type": "execute_result"
    }
   ],
   "source": [
    "dataset\n"
   ]
  },
  {
   "cell_type": "code",
   "execution_count": 36,
   "id": "bb7c14f1",
   "metadata": {},
   "outputs": [
    {
     "ename": "SyntaxError",
     "evalue": "invalid syntax (3299803185.py, line 2)",
     "output_type": "error",
     "traceback": [
      "\u001b[1;36m  Cell \u001b[1;32mIn[36], line 2\u001b[1;36m\u001b[0m\n\u001b[1;33m    - Primera columna con los índices.\u001b[0m\n\u001b[1;37m              ^\u001b[0m\n\u001b[1;31mSyntaxError\u001b[0m\u001b[1;31m:\u001b[0m invalid syntax\n"
     ]
    }
   ],
   "source": [
    "## Analizando lo que tenemos/ lo que nos muestra: \n",
    "- Primera columna con los índices. \n",
    "- Nos muestra las primeras 5 y últimas 5 observaciones.\n",
    "- Cant de filas (obs), cant de columnas (variables). \n",
    "- Punto es separador decimal.\n",
    "- Tenemos distintos tipos en todas las columnas."
   ]
  },
  {
   "cell_type": "code",
   "execution_count": 39,
   "id": "f3e7f96d",
   "metadata": {},
   "outputs": [
    {
     "data": {
      "text/html": [
       "<div>\n",
       "<style scoped>\n",
       "    .dataframe tbody tr th:only-of-type {\n",
       "        vertical-align: middle;\n",
       "    }\n",
       "\n",
       "    .dataframe tbody tr th {\n",
       "        vertical-align: top;\n",
       "    }\n",
       "\n",
       "    .dataframe thead th {\n",
       "        text-align: right;\n",
       "    }\n",
       "</style>\n",
       "<table border=\"1\" class=\"dataframe\">\n",
       "  <thead>\n",
       "    <tr style=\"text-align: right;\">\n",
       "      <th></th>\n",
       "      <th>patient</th>\n",
       "      <th>sex</th>\n",
       "      <th>agegrp</th>\n",
       "      <th>when</th>\n",
       "      <th>bp</th>\n",
       "    </tr>\n",
       "  </thead>\n",
       "  <tbody>\n",
       "    <tr>\n",
       "      <th>0</th>\n",
       "      <td>1</td>\n",
       "      <td>Male</td>\n",
       "      <td>30-45</td>\n",
       "      <td>Before</td>\n",
       "      <td>143</td>\n",
       "    </tr>\n",
       "    <tr>\n",
       "      <th>1</th>\n",
       "      <td>1</td>\n",
       "      <td>Male</td>\n",
       "      <td>30-45</td>\n",
       "      <td>After</td>\n",
       "      <td>153</td>\n",
       "    </tr>\n",
       "    <tr>\n",
       "      <th>2</th>\n",
       "      <td>2</td>\n",
       "      <td>Male</td>\n",
       "      <td>30-45</td>\n",
       "      <td>Before</td>\n",
       "      <td>163</td>\n",
       "    </tr>\n",
       "    <tr>\n",
       "      <th>3</th>\n",
       "      <td>2</td>\n",
       "      <td>Male</td>\n",
       "      <td>30-45</td>\n",
       "      <td>After</td>\n",
       "      <td>170</td>\n",
       "    </tr>\n",
       "    <tr>\n",
       "      <th>4</th>\n",
       "      <td>3</td>\n",
       "      <td>Male</td>\n",
       "      <td>30-45</td>\n",
       "      <td>Before</td>\n",
       "      <td>153</td>\n",
       "    </tr>\n",
       "    <tr>\n",
       "      <th>...</th>\n",
       "      <td>...</td>\n",
       "      <td>...</td>\n",
       "      <td>...</td>\n",
       "      <td>...</td>\n",
       "      <td>...</td>\n",
       "    </tr>\n",
       "    <tr>\n",
       "      <th>235</th>\n",
       "      <td>118</td>\n",
       "      <td>Female</td>\n",
       "      <td>60+</td>\n",
       "      <td>After</td>\n",
       "      <td>174</td>\n",
       "    </tr>\n",
       "    <tr>\n",
       "      <th>236</th>\n",
       "      <td>119</td>\n",
       "      <td>Female</td>\n",
       "      <td>60+</td>\n",
       "      <td>Before</td>\n",
       "      <td>149</td>\n",
       "    </tr>\n",
       "    <tr>\n",
       "      <th>237</th>\n",
       "      <td>119</td>\n",
       "      <td>Female</td>\n",
       "      <td>60+</td>\n",
       "      <td>After</td>\n",
       "      <td>151</td>\n",
       "    </tr>\n",
       "    <tr>\n",
       "      <th>238</th>\n",
       "      <td>120</td>\n",
       "      <td>Female</td>\n",
       "      <td>60+</td>\n",
       "      <td>Before</td>\n",
       "      <td>185</td>\n",
       "    </tr>\n",
       "    <tr>\n",
       "      <th>239</th>\n",
       "      <td>120</td>\n",
       "      <td>Female</td>\n",
       "      <td>60+</td>\n",
       "      <td>After</td>\n",
       "      <td>163</td>\n",
       "    </tr>\n",
       "  </tbody>\n",
       "</table>\n",
       "<p>240 rows × 5 columns</p>\n",
       "</div>"
      ],
      "text/plain": [
       "     patient     sex agegrp    when   bp\n",
       "0          1    Male  30-45  Before  143\n",
       "1          1    Male  30-45   After  153\n",
       "2          2    Male  30-45  Before  163\n",
       "3          2    Male  30-45   After  170\n",
       "4          3    Male  30-45  Before  153\n",
       "..       ...     ...    ...     ...  ...\n",
       "235      118  Female    60+   After  174\n",
       "236      119  Female    60+  Before  149\n",
       "237      119  Female    60+   After  151\n",
       "238      120  Female    60+  Before  185\n",
       "239      120  Female    60+   After  163\n",
       "\n",
       "[240 rows x 5 columns]"
      ]
     },
     "execution_count": 39,
     "metadata": {},
     "output_type": "execute_result"
    }
   ],
   "source": [
    "df = pd.read_stata(r\"C:\\Users\\isidr\\Dropbox\\GitHub\\CEFIP\\Clase 2\\datos_bp.dta\") \n",
    "df"
   ]
  },
  {
   "cell_type": "code",
   "execution_count": 40,
   "id": "cdb430ae",
   "metadata": {
    "scrolled": false
   },
   "outputs": [
    {
     "data": {
      "text/html": [
       "<div>\n",
       "<style scoped>\n",
       "    .dataframe tbody tr th:only-of-type {\n",
       "        vertical-align: middle;\n",
       "    }\n",
       "\n",
       "    .dataframe tbody tr th {\n",
       "        vertical-align: top;\n",
       "    }\n",
       "\n",
       "    .dataframe thead th {\n",
       "        text-align: right;\n",
       "    }\n",
       "</style>\n",
       "<table border=\"1\" class=\"dataframe\">\n",
       "  <thead>\n",
       "    <tr style=\"text-align: right;\">\n",
       "      <th></th>\n",
       "      <th>Nombre</th>\n",
       "      <th>Motor</th>\n",
       "      <th>Año</th>\n",
       "      <th>Kilometraje</th>\n",
       "      <th>Cero_km</th>\n",
       "      <th>Accesorios</th>\n",
       "      <th>Valor</th>\n",
       "    </tr>\n",
       "  </thead>\n",
       "  <tbody>\n",
       "    <tr>\n",
       "      <th>0</th>\n",
       "      <td>Jetta Variant</td>\n",
       "      <td>Motor 4.0 Turbo</td>\n",
       "      <td>2003</td>\n",
       "      <td>44410.0</td>\n",
       "      <td>False</td>\n",
       "      <td>['Llantas de aleación', 'Cerraduras eléctricas...</td>\n",
       "      <td>17615.73</td>\n",
       "    </tr>\n",
       "    <tr>\n",
       "      <th>1</th>\n",
       "      <td>Passat</td>\n",
       "      <td>Motor Diesel</td>\n",
       "      <td>1991</td>\n",
       "      <td>5712.0</td>\n",
       "      <td>False</td>\n",
       "      <td>['Pantalla multimedia', 'Techo panorámico', 'F...</td>\n",
       "      <td>21232.39</td>\n",
       "    </tr>\n",
       "    <tr>\n",
       "      <th>2</th>\n",
       "      <td>Crossfox</td>\n",
       "      <td>Motor Diesel V8</td>\n",
       "      <td>1990</td>\n",
       "      <td>37123.0</td>\n",
       "      <td>False</td>\n",
       "      <td>['Piloto automático', 'Control de estabilidad'...</td>\n",
       "      <td>14566.43</td>\n",
       "    </tr>\n",
       "    <tr>\n",
       "      <th>3</th>\n",
       "      <td>DS5</td>\n",
       "      <td>Motor 2.4 Turbo</td>\n",
       "      <td>2020</td>\n",
       "      <td>NaN</td>\n",
       "      <td>True</td>\n",
       "      <td>['Cerraduras eléctricas', '4 X 4', 'Vidrios el...</td>\n",
       "      <td>24909.81</td>\n",
       "    </tr>\n",
       "    <tr>\n",
       "      <th>4</th>\n",
       "      <td>Aston Martin DB4</td>\n",
       "      <td>Motor 2.4 Turbo</td>\n",
       "      <td>2006</td>\n",
       "      <td>25757.0</td>\n",
       "      <td>False</td>\n",
       "      <td>['Llantas de aleación', '4 X 4', 'Pantalla mul...</td>\n",
       "      <td>18522.42</td>\n",
       "    </tr>\n",
       "    <tr>\n",
       "      <th>...</th>\n",
       "      <td>...</td>\n",
       "      <td>...</td>\n",
       "      <td>...</td>\n",
       "      <td>...</td>\n",
       "      <td>...</td>\n",
       "      <td>...</td>\n",
       "      <td>...</td>\n",
       "    </tr>\n",
       "    <tr>\n",
       "      <th>253</th>\n",
       "      <td>Phantom 2013</td>\n",
       "      <td>Motor V8</td>\n",
       "      <td>2014</td>\n",
       "      <td>27505.0</td>\n",
       "      <td>False</td>\n",
       "      <td>['Control de estabilidad', 'Piloto automático'...</td>\n",
       "      <td>10351.92</td>\n",
       "    </tr>\n",
       "    <tr>\n",
       "      <th>254</th>\n",
       "      <td>Cadillac Ciel concept</td>\n",
       "      <td>Motor V8</td>\n",
       "      <td>1991</td>\n",
       "      <td>29981.0</td>\n",
       "      <td>False</td>\n",
       "      <td>['Bancos de cuero', 'Tablero digital', 'Sensor...</td>\n",
       "      <td>10333.41</td>\n",
       "    </tr>\n",
       "    <tr>\n",
       "      <th>255</th>\n",
       "      <td>Clase GLK</td>\n",
       "      <td>Motor 5.0 V8 Bi-Turbo</td>\n",
       "      <td>2002</td>\n",
       "      <td>52637.0</td>\n",
       "      <td>False</td>\n",
       "      <td>['Llantas de aleación', 'Control de tracción',...</td>\n",
       "      <td>13786.81</td>\n",
       "    </tr>\n",
       "    <tr>\n",
       "      <th>256</th>\n",
       "      <td>Aston Martin DB5</td>\n",
       "      <td>Motor Diesel</td>\n",
       "      <td>1996</td>\n",
       "      <td>7685.0</td>\n",
       "      <td>False</td>\n",
       "      <td>['Aire acondicionado', '4 X 4', 'Cambio automá...</td>\n",
       "      <td>24422.18</td>\n",
       "    </tr>\n",
       "    <tr>\n",
       "      <th>257</th>\n",
       "      <td>Macan</td>\n",
       "      <td>Motor Diesel V6</td>\n",
       "      <td>1992</td>\n",
       "      <td>50188.0</td>\n",
       "      <td>False</td>\n",
       "      <td>['Pantalla multimedia', 'Techo panorámico', 'V...</td>\n",
       "      <td>18076.29</td>\n",
       "    </tr>\n",
       "  </tbody>\n",
       "</table>\n",
       "<p>258 rows × 7 columns</p>\n",
       "</div>"
      ],
      "text/plain": [
       "                    Nombre                  Motor   Año  Kilometraje  Cero_km  \\\n",
       "0            Jetta Variant        Motor 4.0 Turbo  2003      44410.0    False   \n",
       "1                   Passat           Motor Diesel  1991       5712.0    False   \n",
       "2                 Crossfox        Motor Diesel V8  1990      37123.0    False   \n",
       "3                      DS5        Motor 2.4 Turbo  2020          NaN     True   \n",
       "4         Aston Martin DB4        Motor 2.4 Turbo  2006      25757.0    False   \n",
       "..                     ...                    ...   ...          ...      ...   \n",
       "253           Phantom 2013               Motor V8  2014      27505.0    False   \n",
       "254  Cadillac Ciel concept               Motor V8  1991      29981.0    False   \n",
       "255              Clase GLK  Motor 5.0 V8 Bi-Turbo  2002      52637.0    False   \n",
       "256       Aston Martin DB5           Motor Diesel  1996       7685.0    False   \n",
       "257                  Macan        Motor Diesel V6  1992      50188.0    False   \n",
       "\n",
       "                                            Accesorios     Valor  \n",
       "0    ['Llantas de aleación', 'Cerraduras eléctricas...  17615.73  \n",
       "1    ['Pantalla multimedia', 'Techo panorámico', 'F...  21232.39  \n",
       "2    ['Piloto automático', 'Control de estabilidad'...  14566.43  \n",
       "3    ['Cerraduras eléctricas', '4 X 4', 'Vidrios el...  24909.81  \n",
       "4    ['Llantas de aleación', '4 X 4', 'Pantalla mul...  18522.42  \n",
       "..                                                 ...       ...  \n",
       "253  ['Control de estabilidad', 'Piloto automático'...  10351.92  \n",
       "254  ['Bancos de cuero', 'Tablero digital', 'Sensor...  10333.41  \n",
       "255  ['Llantas de aleación', 'Control de tracción',...  13786.81  \n",
       "256  ['Aire acondicionado', '4 X 4', 'Cambio automá...  24422.18  \n",
       "257  ['Pantalla multimedia', 'Techo panorámico', 'V...  18076.29  \n",
       "\n",
       "[258 rows x 7 columns]"
      ]
     },
     "execution_count": 40,
     "metadata": {},
     "output_type": "execute_result"
    }
   ],
   "source": [
    "dataset"
   ]
  },
  {
   "cell_type": "markdown",
   "id": "803d1d0c",
   "metadata": {},
   "source": [
    "## Repasando:\n",
    "\n",
    "- Importar de csv `data=pd.read_csv('archivo.csv')`\n",
    "- Importar de excel `data = pd.read_excel('archivo.xlsx', sheet_name='hoja1')`\n",
    "- Importar de stata `data = pd.read_stata('archivo.dta')`\n",
    "- Importar de una web `data = pd.read_html('link')`\n",
    "\n",
    "\n",
    "## Tener en cuenta: \n",
    "En **windows** los directorios son cadena de texto con barras invertidas (\\) como separadores. Las barras invertidas son caracteres de escape en las cadenas de Python, por lo que es necesario utilizar el prefijo \"r\" antes de la cadena para indicar que es una \"cadena cruda\" y que los caracteres de escape no deben interpretarse. (En **Mac** no se tiene este problema). \n",
    "\n",
    "\n",
    "### Disgresión: caracteres de escape \n",
    "Dentro de las cadenas de caracteres `\\n` implica un salto de línea, `\\t` una tabulación, y si queremos escribir una barra invertida en una cadena hay que poner `\\\\`"
   ]
  },
  {
   "cell_type": "code",
   "execution_count": 41,
   "id": "48239ff5",
   "metadata": {},
   "outputs": [
    {
     "name": "stdout",
     "output_type": "stream",
     "text": [
      "Hola \n",
      "Mundo\n",
      "Hola \tMundo\n",
      "Hola \\Mundo\n"
     ]
    }
   ],
   "source": [
    "print(\"Hola \\nMundo\")\n",
    "print(\"Hola \\tMundo\")\n",
    "print(\"Hola \\\\Mundo\")"
   ]
  },
  {
   "cell_type": "markdown",
   "id": "69f5010a",
   "metadata": {},
   "source": [
    "## Volviendo...\n",
    "\n",
    "### Importemos desde una web\n",
    "\n",
    "¿Qué pasa si me quiero importar una tabla desde wikipedia?"
   ]
  },
  {
   "cell_type": "code",
   "execution_count": 42,
   "id": "378a93ab",
   "metadata": {},
   "outputs": [
    {
     "data": {
      "text/plain": [
       "[    0                                                  1\n",
       " 0 NaN  Este artículo o sección se encuentra desactual...,\n",
       "      Bandera Escudo                 Partido Sección electoral  \\\n",
       " 0        NaN    NaN           Adolfo Alsina               6.ª   \n",
       " 1        NaN    NaN  Adolfo Gonzales Chaves               6.ª   \n",
       " 2        NaN    NaN                 Alberti               4.ª   \n",
       " 3        NaN    NaN         Almirante Brown               3.ª   \n",
       " 4        NaN    NaN               Arrecifes               2.ª   \n",
       " ..       ...    ...                     ...               ...   \n",
       " 131      NaN    NaN           Vicente López               1.ª   \n",
       " 132      NaN    NaN            Villa Gesell               5.ª   \n",
       " 133      NaN    NaN               Villarino               6.ª   \n",
       " 134      NaN    NaN                  Zárate               2.ª   \n",
       " 135      NaN    NaN                   TOTAL               NaN   \n",
       " \n",
       "     Códigos INDEC: divisiones político-administrativas/ gobiernos locales[2]​[3]​  \\\n",
       " 0                                        06007/ 060007                              \n",
       " 1                                        06014/ 060014                              \n",
       " 2                                        06021/ 060021                              \n",
       " 3                                        06028/ 060028                              \n",
       " 4                                        06077/ 060077                              \n",
       " ..                                                 ...                              \n",
       " 131                                      06861/ 060861                              \n",
       " 132                                      06868/ 060868                              \n",
       " 133                                      06875/ 060875                              \n",
       " 134                                      06882/ 060882                              \n",
       " 135                                                NaN                              \n",
       " \n",
       "                    Cabecera  Año de creación[4]​  \\\n",
       " 0                    Carhué               1886.0   \n",
       " 1    Adolfo Gonzales Chaves               1916.0   \n",
       " 2                   Alberti               1910.0   \n",
       " 3                   Adrogué               1873.0   \n",
       " 4                 Arrecifes               1784.0   \n",
       " ..                      ...                  ...   \n",
       " 131                  Olivos               1905.0   \n",
       " 132            Villa Gesell               1978.0   \n",
       " 133                 Médanos               1886.0   \n",
       " 134                  Zárate               1854.0   \n",
       " 135                     NaN                  NaN   \n",
       " \n",
       "                                                 Origen  \\\n",
       " 0                              Por ley provincial 1827   \n",
       " 1    Por Ley provincial 3632 – Con tierras de los p...   \n",
       " 2    Por ley provincial 3237 - Con tierras de los p...   \n",
       " 3    Por ley provincial 856 - Con tierras de los pa...   \n",
       " 4    Al designarse el primer alcalde - Recategoriza...   \n",
       " ..                                                 ...   \n",
       " 131  Por ley provincial 2959 - Con tierras del part...   \n",
       " 132  Por decreto ley provincial 9024 - Con tierras ...   \n",
       " 133                            Por ley provincial 1827   \n",
       " 134                Por decreto del gobernador Obligado   \n",
       " 135                                                NaN   \n",
       " \n",
       "                         Intendente/a (2019-2023) Población (2010)[5]​  \\\n",
       " 0           Javier Andrés (Juntos por el Cambio)               17.072   \n",
       " 1    Eduardo Marcelo Santillán (Frente de Todos)               12.047   \n",
       " 2                  Germán Lago (Frente de Todos)               10.654   \n",
       " 3          Mariano Cascallares (Frente de Todos)              552.902   \n",
       " 4           Javier Olaeta (Juntos por el Cambio)               29.044   \n",
       " ..                                           ...                  ...   \n",
       " 131                   Soledad Martínez (PRO-JxC)              269.420   \n",
       " 132            Gustavo Barrera (Frente de Todos)               31.730   \n",
       " 133     Carlos Bevilacqua (Acción por Villarino)               31.014   \n",
       " 134       Osvaldo Raúl Cáffaro (Frente de Todos)              114.269   \n",
       " 135                                          NaN           15.625.084   \n",
       " \n",
       "     Superficie (km²)[6]​  Densidad (hab./km²)  Mapa  \\\n",
       " 0                   5878                290.0   NaN   \n",
       " 1                   3859                312.0   NaN   \n",
       " 2                   1130                943.0   NaN   \n",
       " 3                    129             428606.0   NaN   \n",
       " 4                   1241               2340.0   NaN   \n",
       " ..                   ...                  ...   ...   \n",
       " 131                  330             795594.0   NaN   \n",
       " 132                  285              11133.0   NaN   \n",
       " 133                11400                272.0   NaN   \n",
       " 134                 1202               9507.0   NaN   \n",
       " 135              307.637               5042.0   NaN   \n",
       " \n",
       "      Cant. de concejales[7]​[8]​  Consejeros escolares[9]​  \n",
       " 0                           12.0                       6.0  \n",
       " 1                           12.0                       4.0  \n",
       " 2                           12.0                       4.0  \n",
       " 3                           24.0                      10.0  \n",
       " 4                           14.0                       6.0  \n",
       " ..                           ...                       ...  \n",
       " 131                         24.0                       8.0  \n",
       " 132                         16.0                       4.0  \n",
       " 133                         16.0                       6.0  \n",
       " 134                         20.0                       6.0  \n",
       " 135                          NaN                       NaN  \n",
       " \n",
       " [136 rows x 15 columns],\n",
       "                         0                                     1\n",
       " 0  Control de autoridades  Proyectos Wikimedia  Datos: Q1421614]"
      ]
     },
     "execution_count": 42,
     "metadata": {},
     "output_type": "execute_result"
    }
   ],
   "source": [
    "tablas = pd.read_html('https://es.wikipedia.org/wiki/Anexo:Partidos_de_la_provincia_de_Buenos_Aires', encoding='utf-8')\n",
    "tablas"
   ]
  },
  {
   "cell_type": "code",
   "execution_count": 44,
   "id": "c4b9a10f",
   "metadata": {},
   "outputs": [
    {
     "data": {
      "text/html": [
       "<div>\n",
       "<style scoped>\n",
       "    .dataframe tbody tr th:only-of-type {\n",
       "        vertical-align: middle;\n",
       "    }\n",
       "\n",
       "    .dataframe tbody tr th {\n",
       "        vertical-align: top;\n",
       "    }\n",
       "\n",
       "    .dataframe thead th {\n",
       "        text-align: right;\n",
       "    }\n",
       "</style>\n",
       "<table border=\"1\" class=\"dataframe\">\n",
       "  <thead>\n",
       "    <tr style=\"text-align: right;\">\n",
       "      <th></th>\n",
       "      <th>Bandera</th>\n",
       "      <th>Escudo</th>\n",
       "      <th>Partido</th>\n",
       "      <th>Sección electoral</th>\n",
       "      <th>Códigos INDEC: divisiones político-administrativas/ gobiernos locales[2]​[3]​</th>\n",
       "      <th>Cabecera</th>\n",
       "      <th>Año de creación[4]​</th>\n",
       "      <th>Origen</th>\n",
       "      <th>Intendente/a (2019-2023)</th>\n",
       "      <th>Población (2010)[5]​</th>\n",
       "      <th>Superficie (km²)[6]​</th>\n",
       "      <th>Densidad (hab./km²)</th>\n",
       "      <th>Mapa</th>\n",
       "      <th>Cant. de concejales[7]​[8]​</th>\n",
       "      <th>Consejeros escolares[9]​</th>\n",
       "    </tr>\n",
       "  </thead>\n",
       "  <tbody>\n",
       "    <tr>\n",
       "      <th>0</th>\n",
       "      <td>NaN</td>\n",
       "      <td>NaN</td>\n",
       "      <td>Adolfo Alsina</td>\n",
       "      <td>6.ª</td>\n",
       "      <td>06007/ 060007</td>\n",
       "      <td>Carhué</td>\n",
       "      <td>1886.0</td>\n",
       "      <td>Por ley provincial 1827</td>\n",
       "      <td>Javier Andrés (Juntos por el Cambio)</td>\n",
       "      <td>17.072</td>\n",
       "      <td>5878</td>\n",
       "      <td>290.0</td>\n",
       "      <td>NaN</td>\n",
       "      <td>12.0</td>\n",
       "      <td>6.0</td>\n",
       "    </tr>\n",
       "    <tr>\n",
       "      <th>1</th>\n",
       "      <td>NaN</td>\n",
       "      <td>NaN</td>\n",
       "      <td>Adolfo Gonzales Chaves</td>\n",
       "      <td>6.ª</td>\n",
       "      <td>06014/ 060014</td>\n",
       "      <td>Adolfo Gonzales Chaves</td>\n",
       "      <td>1916.0</td>\n",
       "      <td>Por Ley provincial 3632 – Con tierras de los p...</td>\n",
       "      <td>Eduardo Marcelo Santillán (Frente de Todos)</td>\n",
       "      <td>12.047</td>\n",
       "      <td>3859</td>\n",
       "      <td>312.0</td>\n",
       "      <td>NaN</td>\n",
       "      <td>12.0</td>\n",
       "      <td>4.0</td>\n",
       "    </tr>\n",
       "    <tr>\n",
       "      <th>2</th>\n",
       "      <td>NaN</td>\n",
       "      <td>NaN</td>\n",
       "      <td>Alberti</td>\n",
       "      <td>4.ª</td>\n",
       "      <td>06021/ 060021</td>\n",
       "      <td>Alberti</td>\n",
       "      <td>1910.0</td>\n",
       "      <td>Por ley provincial 3237 - Con tierras de los p...</td>\n",
       "      <td>Germán Lago (Frente de Todos)</td>\n",
       "      <td>10.654</td>\n",
       "      <td>1130</td>\n",
       "      <td>943.0</td>\n",
       "      <td>NaN</td>\n",
       "      <td>12.0</td>\n",
       "      <td>4.0</td>\n",
       "    </tr>\n",
       "    <tr>\n",
       "      <th>3</th>\n",
       "      <td>NaN</td>\n",
       "      <td>NaN</td>\n",
       "      <td>Almirante Brown</td>\n",
       "      <td>3.ª</td>\n",
       "      <td>06028/ 060028</td>\n",
       "      <td>Adrogué</td>\n",
       "      <td>1873.0</td>\n",
       "      <td>Por ley provincial 856 - Con tierras de los pa...</td>\n",
       "      <td>Mariano Cascallares (Frente de Todos)</td>\n",
       "      <td>552.902</td>\n",
       "      <td>129</td>\n",
       "      <td>428606.0</td>\n",
       "      <td>NaN</td>\n",
       "      <td>24.0</td>\n",
       "      <td>10.0</td>\n",
       "    </tr>\n",
       "    <tr>\n",
       "      <th>4</th>\n",
       "      <td>NaN</td>\n",
       "      <td>NaN</td>\n",
       "      <td>Arrecifes</td>\n",
       "      <td>2.ª</td>\n",
       "      <td>06077/ 060077</td>\n",
       "      <td>Arrecifes</td>\n",
       "      <td>1784.0</td>\n",
       "      <td>Al designarse el primer alcalde - Recategoriza...</td>\n",
       "      <td>Javier Olaeta (Juntos por el Cambio)</td>\n",
       "      <td>29.044</td>\n",
       "      <td>1241</td>\n",
       "      <td>2340.0</td>\n",
       "      <td>NaN</td>\n",
       "      <td>14.0</td>\n",
       "      <td>6.0</td>\n",
       "    </tr>\n",
       "    <tr>\n",
       "      <th>...</th>\n",
       "      <td>...</td>\n",
       "      <td>...</td>\n",
       "      <td>...</td>\n",
       "      <td>...</td>\n",
       "      <td>...</td>\n",
       "      <td>...</td>\n",
       "      <td>...</td>\n",
       "      <td>...</td>\n",
       "      <td>...</td>\n",
       "      <td>...</td>\n",
       "      <td>...</td>\n",
       "      <td>...</td>\n",
       "      <td>...</td>\n",
       "      <td>...</td>\n",
       "      <td>...</td>\n",
       "    </tr>\n",
       "    <tr>\n",
       "      <th>131</th>\n",
       "      <td>NaN</td>\n",
       "      <td>NaN</td>\n",
       "      <td>Vicente López</td>\n",
       "      <td>1.ª</td>\n",
       "      <td>06861/ 060861</td>\n",
       "      <td>Olivos</td>\n",
       "      <td>1905.0</td>\n",
       "      <td>Por ley provincial 2959 - Con tierras del part...</td>\n",
       "      <td>Soledad Martínez (PRO-JxC)</td>\n",
       "      <td>269.420</td>\n",
       "      <td>330</td>\n",
       "      <td>795594.0</td>\n",
       "      <td>NaN</td>\n",
       "      <td>24.0</td>\n",
       "      <td>8.0</td>\n",
       "    </tr>\n",
       "    <tr>\n",
       "      <th>132</th>\n",
       "      <td>NaN</td>\n",
       "      <td>NaN</td>\n",
       "      <td>Villa Gesell</td>\n",
       "      <td>5.ª</td>\n",
       "      <td>06868/ 060868</td>\n",
       "      <td>Villa Gesell</td>\n",
       "      <td>1978.0</td>\n",
       "      <td>Por decreto ley provincial 9024 - Con tierras ...</td>\n",
       "      <td>Gustavo Barrera (Frente de Todos)</td>\n",
       "      <td>31.730</td>\n",
       "      <td>285</td>\n",
       "      <td>11133.0</td>\n",
       "      <td>NaN</td>\n",
       "      <td>16.0</td>\n",
       "      <td>4.0</td>\n",
       "    </tr>\n",
       "    <tr>\n",
       "      <th>133</th>\n",
       "      <td>NaN</td>\n",
       "      <td>NaN</td>\n",
       "      <td>Villarino</td>\n",
       "      <td>6.ª</td>\n",
       "      <td>06875/ 060875</td>\n",
       "      <td>Médanos</td>\n",
       "      <td>1886.0</td>\n",
       "      <td>Por ley provincial 1827</td>\n",
       "      <td>Carlos Bevilacqua (Acción por Villarino)</td>\n",
       "      <td>31.014</td>\n",
       "      <td>11400</td>\n",
       "      <td>272.0</td>\n",
       "      <td>NaN</td>\n",
       "      <td>16.0</td>\n",
       "      <td>6.0</td>\n",
       "    </tr>\n",
       "    <tr>\n",
       "      <th>134</th>\n",
       "      <td>NaN</td>\n",
       "      <td>NaN</td>\n",
       "      <td>Zárate</td>\n",
       "      <td>2.ª</td>\n",
       "      <td>06882/ 060882</td>\n",
       "      <td>Zárate</td>\n",
       "      <td>1854.0</td>\n",
       "      <td>Por decreto del gobernador Obligado</td>\n",
       "      <td>Osvaldo Raúl Cáffaro (Frente de Todos)</td>\n",
       "      <td>114.269</td>\n",
       "      <td>1202</td>\n",
       "      <td>9507.0</td>\n",
       "      <td>NaN</td>\n",
       "      <td>20.0</td>\n",
       "      <td>6.0</td>\n",
       "    </tr>\n",
       "    <tr>\n",
       "      <th>135</th>\n",
       "      <td>NaN</td>\n",
       "      <td>NaN</td>\n",
       "      <td>TOTAL</td>\n",
       "      <td>NaN</td>\n",
       "      <td>NaN</td>\n",
       "      <td>NaN</td>\n",
       "      <td>NaN</td>\n",
       "      <td>NaN</td>\n",
       "      <td>NaN</td>\n",
       "      <td>15.625.084</td>\n",
       "      <td>307.637</td>\n",
       "      <td>5042.0</td>\n",
       "      <td>NaN</td>\n",
       "      <td>NaN</td>\n",
       "      <td>NaN</td>\n",
       "    </tr>\n",
       "  </tbody>\n",
       "</table>\n",
       "<p>136 rows × 15 columns</p>\n",
       "</div>"
      ],
      "text/plain": [
       "     Bandera Escudo                 Partido Sección electoral  \\\n",
       "0        NaN    NaN           Adolfo Alsina               6.ª   \n",
       "1        NaN    NaN  Adolfo Gonzales Chaves               6.ª   \n",
       "2        NaN    NaN                 Alberti               4.ª   \n",
       "3        NaN    NaN         Almirante Brown               3.ª   \n",
       "4        NaN    NaN               Arrecifes               2.ª   \n",
       "..       ...    ...                     ...               ...   \n",
       "131      NaN    NaN           Vicente López               1.ª   \n",
       "132      NaN    NaN            Villa Gesell               5.ª   \n",
       "133      NaN    NaN               Villarino               6.ª   \n",
       "134      NaN    NaN                  Zárate               2.ª   \n",
       "135      NaN    NaN                   TOTAL               NaN   \n",
       "\n",
       "    Códigos INDEC: divisiones político-administrativas/ gobiernos locales[2]​[3]​  \\\n",
       "0                                        06007/ 060007                              \n",
       "1                                        06014/ 060014                              \n",
       "2                                        06021/ 060021                              \n",
       "3                                        06028/ 060028                              \n",
       "4                                        06077/ 060077                              \n",
       "..                                                 ...                              \n",
       "131                                      06861/ 060861                              \n",
       "132                                      06868/ 060868                              \n",
       "133                                      06875/ 060875                              \n",
       "134                                      06882/ 060882                              \n",
       "135                                                NaN                              \n",
       "\n",
       "                   Cabecera  Año de creación[4]​  \\\n",
       "0                    Carhué               1886.0   \n",
       "1    Adolfo Gonzales Chaves               1916.0   \n",
       "2                   Alberti               1910.0   \n",
       "3                   Adrogué               1873.0   \n",
       "4                 Arrecifes               1784.0   \n",
       "..                      ...                  ...   \n",
       "131                  Olivos               1905.0   \n",
       "132            Villa Gesell               1978.0   \n",
       "133                 Médanos               1886.0   \n",
       "134                  Zárate               1854.0   \n",
       "135                     NaN                  NaN   \n",
       "\n",
       "                                                Origen  \\\n",
       "0                              Por ley provincial 1827   \n",
       "1    Por Ley provincial 3632 – Con tierras de los p...   \n",
       "2    Por ley provincial 3237 - Con tierras de los p...   \n",
       "3    Por ley provincial 856 - Con tierras de los pa...   \n",
       "4    Al designarse el primer alcalde - Recategoriza...   \n",
       "..                                                 ...   \n",
       "131  Por ley provincial 2959 - Con tierras del part...   \n",
       "132  Por decreto ley provincial 9024 - Con tierras ...   \n",
       "133                            Por ley provincial 1827   \n",
       "134                Por decreto del gobernador Obligado   \n",
       "135                                                NaN   \n",
       "\n",
       "                        Intendente/a (2019-2023) Población (2010)[5]​  \\\n",
       "0           Javier Andrés (Juntos por el Cambio)               17.072   \n",
       "1    Eduardo Marcelo Santillán (Frente de Todos)               12.047   \n",
       "2                  Germán Lago (Frente de Todos)               10.654   \n",
       "3          Mariano Cascallares (Frente de Todos)              552.902   \n",
       "4           Javier Olaeta (Juntos por el Cambio)               29.044   \n",
       "..                                           ...                  ...   \n",
       "131                   Soledad Martínez (PRO-JxC)              269.420   \n",
       "132            Gustavo Barrera (Frente de Todos)               31.730   \n",
       "133     Carlos Bevilacqua (Acción por Villarino)               31.014   \n",
       "134       Osvaldo Raúl Cáffaro (Frente de Todos)              114.269   \n",
       "135                                          NaN           15.625.084   \n",
       "\n",
       "    Superficie (km²)[6]​  Densidad (hab./km²)  Mapa  \\\n",
       "0                   5878                290.0   NaN   \n",
       "1                   3859                312.0   NaN   \n",
       "2                   1130                943.0   NaN   \n",
       "3                    129             428606.0   NaN   \n",
       "4                   1241               2340.0   NaN   \n",
       "..                   ...                  ...   ...   \n",
       "131                  330             795594.0   NaN   \n",
       "132                  285              11133.0   NaN   \n",
       "133                11400                272.0   NaN   \n",
       "134                 1202               9507.0   NaN   \n",
       "135              307.637               5042.0   NaN   \n",
       "\n",
       "     Cant. de concejales[7]​[8]​  Consejeros escolares[9]​  \n",
       "0                           12.0                       6.0  \n",
       "1                           12.0                       4.0  \n",
       "2                           12.0                       4.0  \n",
       "3                           24.0                      10.0  \n",
       "4                           14.0                       6.0  \n",
       "..                           ...                       ...  \n",
       "131                         24.0                       8.0  \n",
       "132                         16.0                       4.0  \n",
       "133                         16.0                       6.0  \n",
       "134                         20.0                       6.0  \n",
       "135                          NaN                       NaN  \n",
       "\n",
       "[136 rows x 15 columns]"
      ]
     },
     "execution_count": 44,
     "metadata": {},
     "output_type": "execute_result"
    }
   ],
   "source": [
    "tabla=tablas[1]\n",
    "tabla"
   ]
  },
  {
   "cell_type": "markdown",
   "id": "3c6e6701",
   "metadata": {},
   "source": [
    "## Exportación de los datos\n",
    "\n",
    "Supongamos que queremos exportar los datos de la tabla anterior a distintos formatos (stata, excel).\n"
   ]
  },
  {
   "cell_type": "code",
   "execution_count": 47,
   "id": "0e88e93e",
   "metadata": {},
   "outputs": [],
   "source": [
    "tabla.to_csv(r\"C:\\Users\\isidr\\Dropbox\\GitHub\\CEFIP\\Clase 2\\exported-municipios.csv\")"
   ]
  },
  {
   "cell_type": "code",
   "execution_count": 49,
   "id": "a75e9fa8",
   "metadata": {
    "scrolled": false
   },
   "outputs": [],
   "source": [
    "tabla.to_excel(r\"C:\\Users\\isidr\\Dropbox\\GitHub\\CEFIP\\Clase 2\\exported-municipios.xlsx\")"
   ]
  },
  {
   "cell_type": "code",
   "execution_count": 50,
   "id": "9ebba158",
   "metadata": {
    "scrolled": true
   },
   "outputs": [
    {
     "name": "stderr",
     "output_type": "stream",
     "text": [
      "C:\\Users\\isidr\\AppData\\Local\\Temp\\ipykernel_11856\\2039773429.py:1: InvalidColumnName: \n",
      "Not all pandas column names were valid Stata variable names.\n",
      "The following replacements have been made:\n",
      "\n",
      "    Sección electoral   ->   Sección_electoral\n",
      "    Códigos INDEC: divisiones político-administrativas/ gobiernos locales[2]​[3]​   ->   Códigos_INDEC__divisiones_políti\n",
      "    Año de creación[4]​   ->   Año_de_creación_4_​\n",
      "    Intendente/a (2019-2023)   ->   Intendente_a__2019_2023_\n",
      "    Población (2010)[5]​   ->   Población__2010__5_​\n",
      "    Superficie (km²)[6]​   ->   Superficie__km___6_​\n",
      "    Densidad (hab./km²)   ->   Densidad__hab__km__\n",
      "    Cant. de concejales[7]​[8]​   ->   Cant__de_concejales_7_​_8_​\n",
      "    Consejeros escolares[9]​   ->   Consejeros_escolares_9_​\n",
      "\n",
      "If this is not what you expect, please make sure you have Stata-compliant\n",
      "column names in your DataFrame (strings only, max 32 characters, only\n",
      "alphanumerics and underscores, no Stata reserved words)\n",
      "\n",
      "  tabla.to_stata(r\"C:\\Users\\isidr\\Dropbox\\GitHub\\CEFIP\\Clase 2\\exported-municipios.dta\", version=118)\n"
     ]
    }
   ],
   "source": [
    "tabla.to_stata(r\"C:\\Users\\isidr\\Dropbox\\GitHub\\CEFIP\\Clase 2\\exported-municipios.dta\", version=118)"
   ]
  },
  {
   "cell_type": "markdown",
   "id": "a31e2781",
   "metadata": {},
   "source": [
    "### Notar:\n",
    "En stata, si no especifico versión 118, por default python toma stata 10, que no soporta la codificación de nuestro archivo."
   ]
  },
  {
   "cell_type": "markdown",
   "id": "8c7283c0",
   "metadata": {},
   "source": [
    "## Exploración de los datos\n",
    "\n",
    "Comencemos por entender qué hay dentro de nuestro dataframe"
   ]
  },
  {
   "cell_type": "code",
   "execution_count": 51,
   "id": "cf6cbbe0",
   "metadata": {
    "scrolled": true
   },
   "outputs": [
    {
     "data": {
      "text/html": [
       "<div>\n",
       "<style scoped>\n",
       "    .dataframe tbody tr th:only-of-type {\n",
       "        vertical-align: middle;\n",
       "    }\n",
       "\n",
       "    .dataframe tbody tr th {\n",
       "        vertical-align: top;\n",
       "    }\n",
       "\n",
       "    .dataframe thead th {\n",
       "        text-align: right;\n",
       "    }\n",
       "</style>\n",
       "<table border=\"1\" class=\"dataframe\">\n",
       "  <thead>\n",
       "    <tr style=\"text-align: right;\">\n",
       "      <th></th>\n",
       "      <th>patient</th>\n",
       "      <th>bp</th>\n",
       "    </tr>\n",
       "  </thead>\n",
       "  <tbody>\n",
       "    <tr>\n",
       "      <th>count</th>\n",
       "      <td>240.000000</td>\n",
       "      <td>240.000000</td>\n",
       "    </tr>\n",
       "    <tr>\n",
       "      <th>mean</th>\n",
       "      <td>60.500000</td>\n",
       "      <td>153.904167</td>\n",
       "    </tr>\n",
       "    <tr>\n",
       "      <th>std</th>\n",
       "      <td>34.712206</td>\n",
       "      <td>13.083702</td>\n",
       "    </tr>\n",
       "    <tr>\n",
       "      <th>min</th>\n",
       "      <td>1.000000</td>\n",
       "      <td>125.000000</td>\n",
       "    </tr>\n",
       "    <tr>\n",
       "      <th>25%</th>\n",
       "      <td>30.750000</td>\n",
       "      <td>144.000000</td>\n",
       "    </tr>\n",
       "    <tr>\n",
       "      <th>50%</th>\n",
       "      <td>60.500000</td>\n",
       "      <td>152.000000</td>\n",
       "    </tr>\n",
       "    <tr>\n",
       "      <th>75%</th>\n",
       "      <td>90.250000</td>\n",
       "      <td>162.250000</td>\n",
       "    </tr>\n",
       "    <tr>\n",
       "      <th>max</th>\n",
       "      <td>120.000000</td>\n",
       "      <td>185.000000</td>\n",
       "    </tr>\n",
       "  </tbody>\n",
       "</table>\n",
       "</div>"
      ],
      "text/plain": [
       "          patient          bp\n",
       "count  240.000000  240.000000\n",
       "mean    60.500000  153.904167\n",
       "std     34.712206   13.083702\n",
       "min      1.000000  125.000000\n",
       "25%     30.750000  144.000000\n",
       "50%     60.500000  152.000000\n",
       "75%     90.250000  162.250000\n",
       "max    120.000000  185.000000"
      ]
     },
     "execution_count": 51,
     "metadata": {},
     "output_type": "execute_result"
    }
   ],
   "source": [
    "df.describe()"
   ]
  },
  {
   "cell_type": "code",
   "execution_count": 52,
   "id": "9731db97",
   "metadata": {},
   "outputs": [
    {
     "data": {
      "text/html": [
       "<div>\n",
       "<style scoped>\n",
       "    .dataframe tbody tr th:only-of-type {\n",
       "        vertical-align: middle;\n",
       "    }\n",
       "\n",
       "    .dataframe tbody tr th {\n",
       "        vertical-align: top;\n",
       "    }\n",
       "\n",
       "    .dataframe thead th {\n",
       "        text-align: right;\n",
       "    }\n",
       "</style>\n",
       "<table border=\"1\" class=\"dataframe\">\n",
       "  <thead>\n",
       "    <tr style=\"text-align: right;\">\n",
       "      <th></th>\n",
       "      <th>patient</th>\n",
       "      <th>sex</th>\n",
       "      <th>agegrp</th>\n",
       "      <th>when</th>\n",
       "      <th>bp</th>\n",
       "    </tr>\n",
       "  </thead>\n",
       "  <tbody>\n",
       "    <tr>\n",
       "      <th>0</th>\n",
       "      <td>1</td>\n",
       "      <td>Male</td>\n",
       "      <td>30-45</td>\n",
       "      <td>Before</td>\n",
       "      <td>143</td>\n",
       "    </tr>\n",
       "    <tr>\n",
       "      <th>1</th>\n",
       "      <td>1</td>\n",
       "      <td>Male</td>\n",
       "      <td>30-45</td>\n",
       "      <td>After</td>\n",
       "      <td>153</td>\n",
       "    </tr>\n",
       "    <tr>\n",
       "      <th>2</th>\n",
       "      <td>2</td>\n",
       "      <td>Male</td>\n",
       "      <td>30-45</td>\n",
       "      <td>Before</td>\n",
       "      <td>163</td>\n",
       "    </tr>\n",
       "    <tr>\n",
       "      <th>3</th>\n",
       "      <td>2</td>\n",
       "      <td>Male</td>\n",
       "      <td>30-45</td>\n",
       "      <td>After</td>\n",
       "      <td>170</td>\n",
       "    </tr>\n",
       "    <tr>\n",
       "      <th>4</th>\n",
       "      <td>3</td>\n",
       "      <td>Male</td>\n",
       "      <td>30-45</td>\n",
       "      <td>Before</td>\n",
       "      <td>153</td>\n",
       "    </tr>\n",
       "    <tr>\n",
       "      <th>...</th>\n",
       "      <td>...</td>\n",
       "      <td>...</td>\n",
       "      <td>...</td>\n",
       "      <td>...</td>\n",
       "      <td>...</td>\n",
       "    </tr>\n",
       "    <tr>\n",
       "      <th>235</th>\n",
       "      <td>118</td>\n",
       "      <td>Female</td>\n",
       "      <td>60+</td>\n",
       "      <td>After</td>\n",
       "      <td>174</td>\n",
       "    </tr>\n",
       "    <tr>\n",
       "      <th>236</th>\n",
       "      <td>119</td>\n",
       "      <td>Female</td>\n",
       "      <td>60+</td>\n",
       "      <td>Before</td>\n",
       "      <td>149</td>\n",
       "    </tr>\n",
       "    <tr>\n",
       "      <th>237</th>\n",
       "      <td>119</td>\n",
       "      <td>Female</td>\n",
       "      <td>60+</td>\n",
       "      <td>After</td>\n",
       "      <td>151</td>\n",
       "    </tr>\n",
       "    <tr>\n",
       "      <th>238</th>\n",
       "      <td>120</td>\n",
       "      <td>Female</td>\n",
       "      <td>60+</td>\n",
       "      <td>Before</td>\n",
       "      <td>185</td>\n",
       "    </tr>\n",
       "    <tr>\n",
       "      <th>239</th>\n",
       "      <td>120</td>\n",
       "      <td>Female</td>\n",
       "      <td>60+</td>\n",
       "      <td>After</td>\n",
       "      <td>163</td>\n",
       "    </tr>\n",
       "  </tbody>\n",
       "</table>\n",
       "<p>240 rows × 5 columns</p>\n",
       "</div>"
      ],
      "text/plain": [
       "     patient     sex agegrp    when   bp\n",
       "0          1    Male  30-45  Before  143\n",
       "1          1    Male  30-45   After  153\n",
       "2          2    Male  30-45  Before  163\n",
       "3          2    Male  30-45   After  170\n",
       "4          3    Male  30-45  Before  153\n",
       "..       ...     ...    ...     ...  ...\n",
       "235      118  Female    60+   After  174\n",
       "236      119  Female    60+  Before  149\n",
       "237      119  Female    60+   After  151\n",
       "238      120  Female    60+  Before  185\n",
       "239      120  Female    60+   After  163\n",
       "\n",
       "[240 rows x 5 columns]"
      ]
     },
     "execution_count": 52,
     "metadata": {},
     "output_type": "execute_result"
    }
   ],
   "source": [
    "df"
   ]
  },
  {
   "cell_type": "markdown",
   "id": "08d047b5",
   "metadata": {},
   "source": [
    "`.describe()` nos da una vista rápida con información estadística de las columnas **numéricas**."
   ]
  },
  {
   "cell_type": "code",
   "execution_count": 53,
   "id": "c1237793",
   "metadata": {},
   "outputs": [
    {
     "name": "stdout",
     "output_type": "stream",
     "text": [
      "<class 'pandas.core.frame.DataFrame'>\n",
      "RangeIndex: 240 entries, 0 to 239\n",
      "Data columns (total 5 columns):\n",
      " #   Column   Non-Null Count  Dtype   \n",
      "---  ------   --------------  -----   \n",
      " 0   patient  240 non-null    int16   \n",
      " 1   sex      240 non-null    category\n",
      " 2   agegrp   240 non-null    category\n",
      " 3   when     240 non-null    category\n",
      " 4   bp       240 non-null    int16   \n",
      "dtypes: category(3), int16(2)\n",
      "memory usage: 2.1 KB\n"
     ]
    }
   ],
   "source": [
    "df.info()"
   ]
  },
  {
   "cell_type": "markdown",
   "id": "2456782c",
   "metadata": {},
   "source": [
    "`.info` nos da información acerca del dataframe, aclarando qué tipo de datos tenemos (notar que 3 de nuestras columnas son categóricas), si tiene valores missings, cuántas filas y columnas tenemos, etc. \n",
    "\n",
    "Cuando una serie de datos se almacena con el tipo de datos `category`, Pandas le asigna un número entero único a cada valor distinto en la serie y mantiene un mapeo entre los valores originales y sus correspondientes números enteros. Esto permite ahorrar memoria. "
   ]
  },
  {
   "cell_type": "code",
   "execution_count": 54,
   "id": "8a26e33d",
   "metadata": {},
   "outputs": [
    {
     "data": {
      "text/html": [
       "<div>\n",
       "<style scoped>\n",
       "    .dataframe tbody tr th:only-of-type {\n",
       "        vertical-align: middle;\n",
       "    }\n",
       "\n",
       "    .dataframe tbody tr th {\n",
       "        vertical-align: top;\n",
       "    }\n",
       "\n",
       "    .dataframe thead th {\n",
       "        text-align: right;\n",
       "    }\n",
       "</style>\n",
       "<table border=\"1\" class=\"dataframe\">\n",
       "  <thead>\n",
       "    <tr style=\"text-align: right;\">\n",
       "      <th></th>\n",
       "      <th>patient</th>\n",
       "      <th>sex</th>\n",
       "      <th>agegrp</th>\n",
       "      <th>when</th>\n",
       "      <th>bp</th>\n",
       "    </tr>\n",
       "  </thead>\n",
       "  <tbody>\n",
       "    <tr>\n",
       "      <th>0</th>\n",
       "      <td>1</td>\n",
       "      <td>Male</td>\n",
       "      <td>30-45</td>\n",
       "      <td>Before</td>\n",
       "      <td>143</td>\n",
       "    </tr>\n",
       "    <tr>\n",
       "      <th>1</th>\n",
       "      <td>1</td>\n",
       "      <td>Male</td>\n",
       "      <td>30-45</td>\n",
       "      <td>After</td>\n",
       "      <td>153</td>\n",
       "    </tr>\n",
       "    <tr>\n",
       "      <th>2</th>\n",
       "      <td>2</td>\n",
       "      <td>Male</td>\n",
       "      <td>30-45</td>\n",
       "      <td>Before</td>\n",
       "      <td>163</td>\n",
       "    </tr>\n",
       "    <tr>\n",
       "      <th>3</th>\n",
       "      <td>2</td>\n",
       "      <td>Male</td>\n",
       "      <td>30-45</td>\n",
       "      <td>After</td>\n",
       "      <td>170</td>\n",
       "    </tr>\n",
       "    <tr>\n",
       "      <th>4</th>\n",
       "      <td>3</td>\n",
       "      <td>Male</td>\n",
       "      <td>30-45</td>\n",
       "      <td>Before</td>\n",
       "      <td>153</td>\n",
       "    </tr>\n",
       "  </tbody>\n",
       "</table>\n",
       "</div>"
      ],
      "text/plain": [
       "   patient   sex agegrp    when   bp\n",
       "0        1  Male  30-45  Before  143\n",
       "1        1  Male  30-45   After  153\n",
       "2        2  Male  30-45  Before  163\n",
       "3        2  Male  30-45   After  170\n",
       "4        3  Male  30-45  Before  153"
      ]
     },
     "execution_count": 54,
     "metadata": {},
     "output_type": "execute_result"
    }
   ],
   "source": [
    "# Mostrar las primeros 5 filas de mi dataframe\n",
    "df.head()"
   ]
  },
  {
   "cell_type": "code",
   "execution_count": 55,
   "id": "84c9bf8f",
   "metadata": {},
   "outputs": [
    {
     "data": {
      "text/html": [
       "<div>\n",
       "<style scoped>\n",
       "    .dataframe tbody tr th:only-of-type {\n",
       "        vertical-align: middle;\n",
       "    }\n",
       "\n",
       "    .dataframe tbody tr th {\n",
       "        vertical-align: top;\n",
       "    }\n",
       "\n",
       "    .dataframe thead th {\n",
       "        text-align: right;\n",
       "    }\n",
       "</style>\n",
       "<table border=\"1\" class=\"dataframe\">\n",
       "  <thead>\n",
       "    <tr style=\"text-align: right;\">\n",
       "      <th></th>\n",
       "      <th>patient</th>\n",
       "      <th>sex</th>\n",
       "      <th>agegrp</th>\n",
       "      <th>when</th>\n",
       "      <th>bp</th>\n",
       "    </tr>\n",
       "  </thead>\n",
       "  <tbody>\n",
       "    <tr>\n",
       "      <th>0</th>\n",
       "      <td>1</td>\n",
       "      <td>Male</td>\n",
       "      <td>30-45</td>\n",
       "      <td>Before</td>\n",
       "      <td>143</td>\n",
       "    </tr>\n",
       "    <tr>\n",
       "      <th>1</th>\n",
       "      <td>1</td>\n",
       "      <td>Male</td>\n",
       "      <td>30-45</td>\n",
       "      <td>After</td>\n",
       "      <td>153</td>\n",
       "    </tr>\n",
       "    <tr>\n",
       "      <th>2</th>\n",
       "      <td>2</td>\n",
       "      <td>Male</td>\n",
       "      <td>30-45</td>\n",
       "      <td>Before</td>\n",
       "      <td>163</td>\n",
       "    </tr>\n",
       "    <tr>\n",
       "      <th>3</th>\n",
       "      <td>2</td>\n",
       "      <td>Male</td>\n",
       "      <td>30-45</td>\n",
       "      <td>After</td>\n",
       "      <td>170</td>\n",
       "    </tr>\n",
       "    <tr>\n",
       "      <th>4</th>\n",
       "      <td>3</td>\n",
       "      <td>Male</td>\n",
       "      <td>30-45</td>\n",
       "      <td>Before</td>\n",
       "      <td>153</td>\n",
       "    </tr>\n",
       "    <tr>\n",
       "      <th>5</th>\n",
       "      <td>3</td>\n",
       "      <td>Male</td>\n",
       "      <td>30-45</td>\n",
       "      <td>After</td>\n",
       "      <td>168</td>\n",
       "    </tr>\n",
       "    <tr>\n",
       "      <th>6</th>\n",
       "      <td>4</td>\n",
       "      <td>Male</td>\n",
       "      <td>30-45</td>\n",
       "      <td>Before</td>\n",
       "      <td>153</td>\n",
       "    </tr>\n",
       "  </tbody>\n",
       "</table>\n",
       "</div>"
      ],
      "text/plain": [
       "   patient   sex agegrp    when   bp\n",
       "0        1  Male  30-45  Before  143\n",
       "1        1  Male  30-45   After  153\n",
       "2        2  Male  30-45  Before  163\n",
       "3        2  Male  30-45   After  170\n",
       "4        3  Male  30-45  Before  153\n",
       "5        3  Male  30-45   After  168\n",
       "6        4  Male  30-45  Before  153"
      ]
     },
     "execution_count": 55,
     "metadata": {},
     "output_type": "execute_result"
    }
   ],
   "source": [
    "# Mostrar las primeros n filas de mi dataframe\n",
    "df.head(7)"
   ]
  },
  {
   "cell_type": "code",
   "execution_count": 56,
   "id": "00a194a0",
   "metadata": {},
   "outputs": [
    {
     "data": {
      "text/html": [
       "<div>\n",
       "<style scoped>\n",
       "    .dataframe tbody tr th:only-of-type {\n",
       "        vertical-align: middle;\n",
       "    }\n",
       "\n",
       "    .dataframe tbody tr th {\n",
       "        vertical-align: top;\n",
       "    }\n",
       "\n",
       "    .dataframe thead th {\n",
       "        text-align: right;\n",
       "    }\n",
       "</style>\n",
       "<table border=\"1\" class=\"dataframe\">\n",
       "  <thead>\n",
       "    <tr style=\"text-align: right;\">\n",
       "      <th></th>\n",
       "      <th>patient</th>\n",
       "      <th>sex</th>\n",
       "      <th>agegrp</th>\n",
       "      <th>when</th>\n",
       "      <th>bp</th>\n",
       "    </tr>\n",
       "  </thead>\n",
       "  <tbody>\n",
       "    <tr>\n",
       "      <th>233</th>\n",
       "      <td>117</td>\n",
       "      <td>Female</td>\n",
       "      <td>60+</td>\n",
       "      <td>After</td>\n",
       "      <td>152</td>\n",
       "    </tr>\n",
       "    <tr>\n",
       "      <th>234</th>\n",
       "      <td>118</td>\n",
       "      <td>Female</td>\n",
       "      <td>60+</td>\n",
       "      <td>Before</td>\n",
       "      <td>165</td>\n",
       "    </tr>\n",
       "    <tr>\n",
       "      <th>235</th>\n",
       "      <td>118</td>\n",
       "      <td>Female</td>\n",
       "      <td>60+</td>\n",
       "      <td>After</td>\n",
       "      <td>174</td>\n",
       "    </tr>\n",
       "    <tr>\n",
       "      <th>236</th>\n",
       "      <td>119</td>\n",
       "      <td>Female</td>\n",
       "      <td>60+</td>\n",
       "      <td>Before</td>\n",
       "      <td>149</td>\n",
       "    </tr>\n",
       "    <tr>\n",
       "      <th>237</th>\n",
       "      <td>119</td>\n",
       "      <td>Female</td>\n",
       "      <td>60+</td>\n",
       "      <td>After</td>\n",
       "      <td>151</td>\n",
       "    </tr>\n",
       "    <tr>\n",
       "      <th>238</th>\n",
       "      <td>120</td>\n",
       "      <td>Female</td>\n",
       "      <td>60+</td>\n",
       "      <td>Before</td>\n",
       "      <td>185</td>\n",
       "    </tr>\n",
       "    <tr>\n",
       "      <th>239</th>\n",
       "      <td>120</td>\n",
       "      <td>Female</td>\n",
       "      <td>60+</td>\n",
       "      <td>After</td>\n",
       "      <td>163</td>\n",
       "    </tr>\n",
       "  </tbody>\n",
       "</table>\n",
       "</div>"
      ],
      "text/plain": [
       "     patient     sex agegrp    when   bp\n",
       "233      117  Female    60+   After  152\n",
       "234      118  Female    60+  Before  165\n",
       "235      118  Female    60+   After  174\n",
       "236      119  Female    60+  Before  149\n",
       "237      119  Female    60+   After  151\n",
       "238      120  Female    60+  Before  185\n",
       "239      120  Female    60+   After  163"
      ]
     },
     "execution_count": 56,
     "metadata": {},
     "output_type": "execute_result"
    }
   ],
   "source": [
    "# Mostrar las ultimas n filas de mi dataframe\n",
    "df.tail(7)"
   ]
  },
  {
   "cell_type": "markdown",
   "id": "e858bfb2",
   "metadata": {},
   "source": [
    "### Estadísticas descriptivas"
   ]
  },
  {
   "cell_type": "markdown",
   "id": "3019e365",
   "metadata": {},
   "source": [
    "Si quiero que encontrar una característica de una columna en particular debo hacer `df['mi_variable'].estadistico()`"
   ]
  },
  {
   "cell_type": "code",
   "execution_count": 57,
   "id": "932c6422",
   "metadata": {},
   "outputs": [
    {
     "data": {
      "text/plain": [
       "153.90416666666667"
      ]
     },
     "execution_count": 57,
     "metadata": {},
     "output_type": "execute_result"
    }
   ],
   "source": [
    "df[\"bp\"].mean()"
   ]
  },
  {
   "cell_type": "markdown",
   "id": "08bb7446",
   "metadata": {},
   "source": [
    "Para guardar el valor (tipo local):"
   ]
  },
  {
   "cell_type": "code",
   "execution_count": 64,
   "id": "9cf7da01",
   "metadata": {},
   "outputs": [
    {
     "data": {
      "text/plain": [
       "153.90416666666667"
      ]
     },
     "execution_count": 64,
     "metadata": {},
     "output_type": "execute_result"
    }
   ],
   "source": [
    "a=df[\"bp\"].mean()\n",
    "a"
   ]
  },
  {
   "cell_type": "code",
   "execution_count": 58,
   "id": "7a05f747",
   "metadata": {},
   "outputs": [
    {
     "data": {
      "text/plain": [
       "60.5"
      ]
     },
     "execution_count": 58,
     "metadata": {},
     "output_type": "execute_result"
    }
   ],
   "source": [
    "df[\"patient\"].median()"
   ]
  },
  {
   "cell_type": "code",
   "execution_count": 59,
   "id": "91403635",
   "metadata": {},
   "outputs": [
    {
     "data": {
      "text/plain": [
       "0.25    144.00\n",
       "0.50    152.00\n",
       "0.75    162.25\n",
       "Name: bp, dtype: float64"
      ]
     },
     "execution_count": 59,
     "metadata": {},
     "output_type": "execute_result"
    }
   ],
   "source": [
    "df[\"bp\"].quantile(q = [0.25, 0.5, 0.75])"
   ]
  },
  {
   "cell_type": "code",
   "execution_count": 60,
   "id": "bd0627a6",
   "metadata": {},
   "outputs": [
    {
     "data": {
      "text/plain": [
       "152.0"
      ]
     },
     "execution_count": 60,
     "metadata": {},
     "output_type": "execute_result"
    }
   ],
   "source": [
    "df[\"bp\"].quantile()"
   ]
  },
  {
   "cell_type": "code",
   "execution_count": 61,
   "id": "7570b693",
   "metadata": {},
   "outputs": [
    {
     "data": {
      "text/plain": [
       "13.08370154675559"
      ]
     },
     "execution_count": 61,
     "metadata": {},
     "output_type": "execute_result"
    }
   ],
   "source": [
    "df['bp'].std()"
   ]
  },
  {
   "cell_type": "code",
   "execution_count": 62,
   "id": "b3ba5e3c",
   "metadata": {
    "scrolled": true
   },
   "outputs": [
    {
     "data": {
      "text/plain": [
       "13.08370154675559"
      ]
     },
     "execution_count": 62,
     "metadata": {},
     "output_type": "execute_result"
    }
   ],
   "source": [
    "df['bp'].std()"
   ]
  },
  {
   "cell_type": "code",
   "execution_count": 67,
   "id": "36e9dc7a",
   "metadata": {},
   "outputs": [
    {
     "data": {
      "text/plain": [
       "(13.08370154675559, 60.5)"
      ]
     },
     "execution_count": 67,
     "metadata": {},
     "output_type": "execute_result"
    }
   ],
   "source": [
    "df['bp'].std(), df['patient'].mean()"
   ]
  },
  {
   "cell_type": "markdown",
   "id": "b4a3761a",
   "metadata": {},
   "source": [
    "Quizás nos interese agrupar por una variable y comparar entre grupos:"
   ]
  },
  {
   "cell_type": "code",
   "execution_count": 66,
   "id": "839b8705",
   "metadata": {},
   "outputs": [
    {
     "ename": "TypeError",
     "evalue": "'Categorical' with dtype category does not support reduction 'mean'",
     "output_type": "error",
     "traceback": [
      "\u001b[1;31m---------------------------------------------------------------------------\u001b[0m",
      "\u001b[1;31mNotImplementedError\u001b[0m                       Traceback (most recent call last)",
      "File \u001b[1;32m~\\anaconda3\\Lib\\site-packages\\pandas\\core\\groupby\\groupby.py:1490\u001b[0m, in \u001b[0;36mGroupBy._cython_agg_general.<locals>.array_func\u001b[1;34m(values)\u001b[0m\n\u001b[0;32m   1489\u001b[0m \u001b[38;5;28;01mtry\u001b[39;00m:\n\u001b[1;32m-> 1490\u001b[0m     result \u001b[38;5;241m=\u001b[39m \u001b[38;5;28mself\u001b[39m\u001b[38;5;241m.\u001b[39mgrouper\u001b[38;5;241m.\u001b[39m_cython_operation(\n\u001b[0;32m   1491\u001b[0m         \u001b[38;5;124m\"\u001b[39m\u001b[38;5;124maggregate\u001b[39m\u001b[38;5;124m\"\u001b[39m,\n\u001b[0;32m   1492\u001b[0m         values,\n\u001b[0;32m   1493\u001b[0m         how,\n\u001b[0;32m   1494\u001b[0m         axis\u001b[38;5;241m=\u001b[39mdata\u001b[38;5;241m.\u001b[39mndim \u001b[38;5;241m-\u001b[39m \u001b[38;5;241m1\u001b[39m,\n\u001b[0;32m   1495\u001b[0m         min_count\u001b[38;5;241m=\u001b[39mmin_count,\n\u001b[0;32m   1496\u001b[0m         \u001b[38;5;241m*\u001b[39m\u001b[38;5;241m*\u001b[39mkwargs,\n\u001b[0;32m   1497\u001b[0m     )\n\u001b[0;32m   1498\u001b[0m \u001b[38;5;28;01mexcept\u001b[39;00m \u001b[38;5;167;01mNotImplementedError\u001b[39;00m:\n\u001b[0;32m   1499\u001b[0m     \u001b[38;5;66;03m# generally if we have numeric_only=False\u001b[39;00m\n\u001b[0;32m   1500\u001b[0m     \u001b[38;5;66;03m# and non-applicable functions\u001b[39;00m\n\u001b[0;32m   1501\u001b[0m     \u001b[38;5;66;03m# try to python agg\u001b[39;00m\n\u001b[0;32m   1502\u001b[0m     \u001b[38;5;66;03m# TODO: shouldn't min_count matter?\u001b[39;00m\n",
      "File \u001b[1;32m~\\anaconda3\\Lib\\site-packages\\pandas\\core\\groupby\\ops.py:959\u001b[0m, in \u001b[0;36mBaseGrouper._cython_operation\u001b[1;34m(self, kind, values, how, axis, min_count, **kwargs)\u001b[0m\n\u001b[0;32m    958\u001b[0m ngroups \u001b[38;5;241m=\u001b[39m \u001b[38;5;28mself\u001b[39m\u001b[38;5;241m.\u001b[39mngroups\n\u001b[1;32m--> 959\u001b[0m \u001b[38;5;28;01mreturn\u001b[39;00m cy_op\u001b[38;5;241m.\u001b[39mcython_operation(\n\u001b[0;32m    960\u001b[0m     values\u001b[38;5;241m=\u001b[39mvalues,\n\u001b[0;32m    961\u001b[0m     axis\u001b[38;5;241m=\u001b[39maxis,\n\u001b[0;32m    962\u001b[0m     min_count\u001b[38;5;241m=\u001b[39mmin_count,\n\u001b[0;32m    963\u001b[0m     comp_ids\u001b[38;5;241m=\u001b[39mids,\n\u001b[0;32m    964\u001b[0m     ngroups\u001b[38;5;241m=\u001b[39mngroups,\n\u001b[0;32m    965\u001b[0m     \u001b[38;5;241m*\u001b[39m\u001b[38;5;241m*\u001b[39mkwargs,\n\u001b[0;32m    966\u001b[0m )\n",
      "File \u001b[1;32m~\\anaconda3\\Lib\\site-packages\\pandas\\core\\groupby\\ops.py:645\u001b[0m, in \u001b[0;36mWrappedCythonOp.cython_operation\u001b[1;34m(self, values, axis, min_count, comp_ids, ngroups, **kwargs)\u001b[0m\n\u001b[0;32m    643\u001b[0m \u001b[38;5;66;03m# can we do this operation with our cython functions\u001b[39;00m\n\u001b[0;32m    644\u001b[0m \u001b[38;5;66;03m# if not raise NotImplementedError\u001b[39;00m\n\u001b[1;32m--> 645\u001b[0m \u001b[38;5;28mself\u001b[39m\u001b[38;5;241m.\u001b[39m_disallow_invalid_ops(dtype, is_numeric)\n\u001b[0;32m    647\u001b[0m \u001b[38;5;28;01mif\u001b[39;00m \u001b[38;5;129;01mnot\u001b[39;00m \u001b[38;5;28misinstance\u001b[39m(values, np\u001b[38;5;241m.\u001b[39mndarray):\n\u001b[0;32m    648\u001b[0m     \u001b[38;5;66;03m# i.e. ExtensionArray\u001b[39;00m\n",
      "File \u001b[1;32m~\\anaconda3\\Lib\\site-packages\\pandas\\core\\groupby\\ops.py:250\u001b[0m, in \u001b[0;36mWrappedCythonOp._disallow_invalid_ops\u001b[1;34m(self, dtype, is_numeric)\u001b[0m\n\u001b[0;32m    248\u001b[0m     \u001b[38;5;28;01mif\u001b[39;00m how \u001b[38;5;129;01mnot\u001b[39;00m \u001b[38;5;129;01min\u001b[39;00m [\u001b[38;5;124m\"\u001b[39m\u001b[38;5;124mrank\u001b[39m\u001b[38;5;124m\"\u001b[39m]:\n\u001b[0;32m    249\u001b[0m         \u001b[38;5;66;03m# only \"rank\" is implemented in cython\u001b[39;00m\n\u001b[1;32m--> 250\u001b[0m         \u001b[38;5;28;01mraise\u001b[39;00m \u001b[38;5;167;01mNotImplementedError\u001b[39;00m(\u001b[38;5;124mf\u001b[39m\u001b[38;5;124m\"\u001b[39m\u001b[38;5;132;01m{\u001b[39;00mdtype\u001b[38;5;132;01m}\u001b[39;00m\u001b[38;5;124m dtype not supported\u001b[39m\u001b[38;5;124m\"\u001b[39m)\n\u001b[0;32m    252\u001b[0m \u001b[38;5;28;01melif\u001b[39;00m is_sparse(dtype):\n",
      "\u001b[1;31mNotImplementedError\u001b[0m: category dtype not supported",
      "\nDuring handling of the above exception, another exception occurred:\n",
      "\u001b[1;31mTypeError\u001b[0m                                 Traceback (most recent call last)",
      "Cell \u001b[1;32mIn[66], line 1\u001b[0m\n\u001b[1;32m----> 1\u001b[0m df\u001b[38;5;241m.\u001b[39mgroupby([\u001b[38;5;124m\"\u001b[39m\u001b[38;5;124mwhen\u001b[39m\u001b[38;5;124m\"\u001b[39m])\u001b[38;5;241m.\u001b[39mmean()\n",
      "File \u001b[1;32m~\\anaconda3\\Lib\\site-packages\\pandas\\core\\groupby\\groupby.py:1855\u001b[0m, in \u001b[0;36mGroupBy.mean\u001b[1;34m(self, numeric_only, engine, engine_kwargs)\u001b[0m\n\u001b[0;32m   1853\u001b[0m     \u001b[38;5;28;01mreturn\u001b[39;00m \u001b[38;5;28mself\u001b[39m\u001b[38;5;241m.\u001b[39m_numba_agg_general(sliding_mean, engine_kwargs)\n\u001b[0;32m   1854\u001b[0m \u001b[38;5;28;01melse\u001b[39;00m:\n\u001b[1;32m-> 1855\u001b[0m     result \u001b[38;5;241m=\u001b[39m \u001b[38;5;28mself\u001b[39m\u001b[38;5;241m.\u001b[39m_cython_agg_general(\n\u001b[0;32m   1856\u001b[0m         \u001b[38;5;124m\"\u001b[39m\u001b[38;5;124mmean\u001b[39m\u001b[38;5;124m\"\u001b[39m,\n\u001b[0;32m   1857\u001b[0m         alt\u001b[38;5;241m=\u001b[39m\u001b[38;5;28;01mlambda\u001b[39;00m x: Series(x)\u001b[38;5;241m.\u001b[39mmean(numeric_only\u001b[38;5;241m=\u001b[39mnumeric_only),\n\u001b[0;32m   1858\u001b[0m         numeric_only\u001b[38;5;241m=\u001b[39mnumeric_only,\n\u001b[0;32m   1859\u001b[0m     )\n\u001b[0;32m   1860\u001b[0m     \u001b[38;5;28;01mreturn\u001b[39;00m result\u001b[38;5;241m.\u001b[39m__finalize__(\u001b[38;5;28mself\u001b[39m\u001b[38;5;241m.\u001b[39mobj, method\u001b[38;5;241m=\u001b[39m\u001b[38;5;124m\"\u001b[39m\u001b[38;5;124mgroupby\u001b[39m\u001b[38;5;124m\"\u001b[39m)\n",
      "File \u001b[1;32m~\\anaconda3\\Lib\\site-packages\\pandas\\core\\groupby\\groupby.py:1507\u001b[0m, in \u001b[0;36mGroupBy._cython_agg_general\u001b[1;34m(self, how, alt, numeric_only, min_count, **kwargs)\u001b[0m\n\u001b[0;32m   1503\u001b[0m         result \u001b[38;5;241m=\u001b[39m \u001b[38;5;28mself\u001b[39m\u001b[38;5;241m.\u001b[39m_agg_py_fallback(values, ndim\u001b[38;5;241m=\u001b[39mdata\u001b[38;5;241m.\u001b[39mndim, alt\u001b[38;5;241m=\u001b[39malt)\n\u001b[0;32m   1505\u001b[0m     \u001b[38;5;28;01mreturn\u001b[39;00m result\n\u001b[1;32m-> 1507\u001b[0m new_mgr \u001b[38;5;241m=\u001b[39m data\u001b[38;5;241m.\u001b[39mgrouped_reduce(array_func)\n\u001b[0;32m   1508\u001b[0m res \u001b[38;5;241m=\u001b[39m \u001b[38;5;28mself\u001b[39m\u001b[38;5;241m.\u001b[39m_wrap_agged_manager(new_mgr)\n\u001b[0;32m   1509\u001b[0m out \u001b[38;5;241m=\u001b[39m \u001b[38;5;28mself\u001b[39m\u001b[38;5;241m.\u001b[39m_wrap_aggregated_output(res)\n",
      "File \u001b[1;32m~\\anaconda3\\Lib\\site-packages\\pandas\\core\\internals\\managers.py:1506\u001b[0m, in \u001b[0;36mBlockManager.grouped_reduce\u001b[1;34m(self, func)\u001b[0m\n\u001b[0;32m   1504\u001b[0m             result_blocks \u001b[38;5;241m=\u001b[39m extend_blocks(applied, result_blocks)\n\u001b[0;32m   1505\u001b[0m     \u001b[38;5;28;01melse\u001b[39;00m:\n\u001b[1;32m-> 1506\u001b[0m         applied \u001b[38;5;241m=\u001b[39m blk\u001b[38;5;241m.\u001b[39mapply(func)\n\u001b[0;32m   1507\u001b[0m         result_blocks \u001b[38;5;241m=\u001b[39m extend_blocks(applied, result_blocks)\n\u001b[0;32m   1509\u001b[0m \u001b[38;5;28;01mif\u001b[39;00m \u001b[38;5;28mlen\u001b[39m(result_blocks) \u001b[38;5;241m==\u001b[39m \u001b[38;5;241m0\u001b[39m:\n",
      "File \u001b[1;32m~\\anaconda3\\Lib\\site-packages\\pandas\\core\\internals\\blocks.py:329\u001b[0m, in \u001b[0;36mBlock.apply\u001b[1;34m(self, func, **kwargs)\u001b[0m\n\u001b[0;32m    323\u001b[0m \u001b[38;5;129m@final\u001b[39m\n\u001b[0;32m    324\u001b[0m \u001b[38;5;28;01mdef\u001b[39;00m \u001b[38;5;21mapply\u001b[39m(\u001b[38;5;28mself\u001b[39m, func, \u001b[38;5;241m*\u001b[39m\u001b[38;5;241m*\u001b[39mkwargs) \u001b[38;5;241m-\u001b[39m\u001b[38;5;241m>\u001b[39m \u001b[38;5;28mlist\u001b[39m[Block]:\n\u001b[0;32m    325\u001b[0m \u001b[38;5;250m    \u001b[39m\u001b[38;5;124;03m\"\"\"\u001b[39;00m\n\u001b[0;32m    326\u001b[0m \u001b[38;5;124;03m    apply the function to my values; return a block if we are not\u001b[39;00m\n\u001b[0;32m    327\u001b[0m \u001b[38;5;124;03m    one\u001b[39;00m\n\u001b[0;32m    328\u001b[0m \u001b[38;5;124;03m    \"\"\"\u001b[39;00m\n\u001b[1;32m--> 329\u001b[0m     result \u001b[38;5;241m=\u001b[39m func(\u001b[38;5;28mself\u001b[39m\u001b[38;5;241m.\u001b[39mvalues, \u001b[38;5;241m*\u001b[39m\u001b[38;5;241m*\u001b[39mkwargs)\n\u001b[0;32m    331\u001b[0m     \u001b[38;5;28;01mreturn\u001b[39;00m \u001b[38;5;28mself\u001b[39m\u001b[38;5;241m.\u001b[39m_split_op_result(result)\n",
      "File \u001b[1;32m~\\anaconda3\\Lib\\site-packages\\pandas\\core\\groupby\\groupby.py:1503\u001b[0m, in \u001b[0;36mGroupBy._cython_agg_general.<locals>.array_func\u001b[1;34m(values)\u001b[0m\n\u001b[0;32m   1490\u001b[0m     result \u001b[38;5;241m=\u001b[39m \u001b[38;5;28mself\u001b[39m\u001b[38;5;241m.\u001b[39mgrouper\u001b[38;5;241m.\u001b[39m_cython_operation(\n\u001b[0;32m   1491\u001b[0m         \u001b[38;5;124m\"\u001b[39m\u001b[38;5;124maggregate\u001b[39m\u001b[38;5;124m\"\u001b[39m,\n\u001b[0;32m   1492\u001b[0m         values,\n\u001b[1;32m   (...)\u001b[0m\n\u001b[0;32m   1496\u001b[0m         \u001b[38;5;241m*\u001b[39m\u001b[38;5;241m*\u001b[39mkwargs,\n\u001b[0;32m   1497\u001b[0m     )\n\u001b[0;32m   1498\u001b[0m \u001b[38;5;28;01mexcept\u001b[39;00m \u001b[38;5;167;01mNotImplementedError\u001b[39;00m:\n\u001b[0;32m   1499\u001b[0m     \u001b[38;5;66;03m# generally if we have numeric_only=False\u001b[39;00m\n\u001b[0;32m   1500\u001b[0m     \u001b[38;5;66;03m# and non-applicable functions\u001b[39;00m\n\u001b[0;32m   1501\u001b[0m     \u001b[38;5;66;03m# try to python agg\u001b[39;00m\n\u001b[0;32m   1502\u001b[0m     \u001b[38;5;66;03m# TODO: shouldn't min_count matter?\u001b[39;00m\n\u001b[1;32m-> 1503\u001b[0m     result \u001b[38;5;241m=\u001b[39m \u001b[38;5;28mself\u001b[39m\u001b[38;5;241m.\u001b[39m_agg_py_fallback(values, ndim\u001b[38;5;241m=\u001b[39mdata\u001b[38;5;241m.\u001b[39mndim, alt\u001b[38;5;241m=\u001b[39malt)\n\u001b[0;32m   1505\u001b[0m \u001b[38;5;28;01mreturn\u001b[39;00m result\n",
      "File \u001b[1;32m~\\anaconda3\\Lib\\site-packages\\pandas\\core\\groupby\\groupby.py:1457\u001b[0m, in \u001b[0;36mGroupBy._agg_py_fallback\u001b[1;34m(self, values, ndim, alt)\u001b[0m\n\u001b[0;32m   1452\u001b[0m     ser \u001b[38;5;241m=\u001b[39m df\u001b[38;5;241m.\u001b[39miloc[:, \u001b[38;5;241m0\u001b[39m]\n\u001b[0;32m   1454\u001b[0m \u001b[38;5;66;03m# We do not get here with UDFs, so we know that our dtype\u001b[39;00m\n\u001b[0;32m   1455\u001b[0m \u001b[38;5;66;03m#  should always be preserved by the implemented aggregations\u001b[39;00m\n\u001b[0;32m   1456\u001b[0m \u001b[38;5;66;03m# TODO: Is this exactly right; see WrappedCythonOp get_result_dtype?\u001b[39;00m\n\u001b[1;32m-> 1457\u001b[0m res_values \u001b[38;5;241m=\u001b[39m \u001b[38;5;28mself\u001b[39m\u001b[38;5;241m.\u001b[39mgrouper\u001b[38;5;241m.\u001b[39magg_series(ser, alt, preserve_dtype\u001b[38;5;241m=\u001b[39m\u001b[38;5;28;01mTrue\u001b[39;00m)\n\u001b[0;32m   1459\u001b[0m \u001b[38;5;28;01mif\u001b[39;00m \u001b[38;5;28misinstance\u001b[39m(values, Categorical):\n\u001b[0;32m   1460\u001b[0m     \u001b[38;5;66;03m# Because we only get here with known dtype-preserving\u001b[39;00m\n\u001b[0;32m   1461\u001b[0m     \u001b[38;5;66;03m#  reductions, we cast back to Categorical.\u001b[39;00m\n\u001b[0;32m   1462\u001b[0m     \u001b[38;5;66;03m# TODO: if we ever get \"rank\" working, exclude it here.\u001b[39;00m\n\u001b[0;32m   1463\u001b[0m     res_values \u001b[38;5;241m=\u001b[39m \u001b[38;5;28mtype\u001b[39m(values)\u001b[38;5;241m.\u001b[39m_from_sequence(res_values, dtype\u001b[38;5;241m=\u001b[39mvalues\u001b[38;5;241m.\u001b[39mdtype)\n",
      "File \u001b[1;32m~\\anaconda3\\Lib\\site-packages\\pandas\\core\\groupby\\ops.py:994\u001b[0m, in \u001b[0;36mBaseGrouper.agg_series\u001b[1;34m(self, obj, func, preserve_dtype)\u001b[0m\n\u001b[0;32m    987\u001b[0m \u001b[38;5;28;01mif\u001b[39;00m \u001b[38;5;28mlen\u001b[39m(obj) \u001b[38;5;241m>\u001b[39m \u001b[38;5;241m0\u001b[39m \u001b[38;5;129;01mand\u001b[39;00m \u001b[38;5;129;01mnot\u001b[39;00m \u001b[38;5;28misinstance\u001b[39m(obj\u001b[38;5;241m.\u001b[39m_values, np\u001b[38;5;241m.\u001b[39mndarray):\n\u001b[0;32m    988\u001b[0m     \u001b[38;5;66;03m# we can preserve a little bit more aggressively with EA dtype\u001b[39;00m\n\u001b[0;32m    989\u001b[0m     \u001b[38;5;66;03m#  because maybe_cast_pointwise_result will do a try/except\u001b[39;00m\n\u001b[0;32m    990\u001b[0m     \u001b[38;5;66;03m#  with _from_sequence.  NB we are assuming here that _from_sequence\u001b[39;00m\n\u001b[0;32m    991\u001b[0m     \u001b[38;5;66;03m#  is sufficiently strict that it casts appropriately.\u001b[39;00m\n\u001b[0;32m    992\u001b[0m     preserve_dtype \u001b[38;5;241m=\u001b[39m \u001b[38;5;28;01mTrue\u001b[39;00m\n\u001b[1;32m--> 994\u001b[0m result \u001b[38;5;241m=\u001b[39m \u001b[38;5;28mself\u001b[39m\u001b[38;5;241m.\u001b[39m_aggregate_series_pure_python(obj, func)\n\u001b[0;32m    996\u001b[0m npvalues \u001b[38;5;241m=\u001b[39m lib\u001b[38;5;241m.\u001b[39mmaybe_convert_objects(result, try_float\u001b[38;5;241m=\u001b[39m\u001b[38;5;28;01mFalse\u001b[39;00m)\n\u001b[0;32m    997\u001b[0m \u001b[38;5;28;01mif\u001b[39;00m preserve_dtype:\n",
      "File \u001b[1;32m~\\anaconda3\\Lib\\site-packages\\pandas\\core\\groupby\\ops.py:1015\u001b[0m, in \u001b[0;36mBaseGrouper._aggregate_series_pure_python\u001b[1;34m(self, obj, func)\u001b[0m\n\u001b[0;32m   1012\u001b[0m splitter \u001b[38;5;241m=\u001b[39m \u001b[38;5;28mself\u001b[39m\u001b[38;5;241m.\u001b[39m_get_splitter(obj, axis\u001b[38;5;241m=\u001b[39m\u001b[38;5;241m0\u001b[39m)\n\u001b[0;32m   1014\u001b[0m \u001b[38;5;28;01mfor\u001b[39;00m i, group \u001b[38;5;129;01min\u001b[39;00m \u001b[38;5;28menumerate\u001b[39m(splitter):\n\u001b[1;32m-> 1015\u001b[0m     res \u001b[38;5;241m=\u001b[39m func(group)\n\u001b[0;32m   1016\u001b[0m     res \u001b[38;5;241m=\u001b[39m libreduction\u001b[38;5;241m.\u001b[39mextract_result(res)\n\u001b[0;32m   1018\u001b[0m     \u001b[38;5;28;01mif\u001b[39;00m \u001b[38;5;129;01mnot\u001b[39;00m initialized:\n\u001b[0;32m   1019\u001b[0m         \u001b[38;5;66;03m# We only do this validation on the first iteration\u001b[39;00m\n",
      "File \u001b[1;32m~\\anaconda3\\Lib\\site-packages\\pandas\\core\\groupby\\groupby.py:1857\u001b[0m, in \u001b[0;36mGroupBy.mean.<locals>.<lambda>\u001b[1;34m(x)\u001b[0m\n\u001b[0;32m   1853\u001b[0m     \u001b[38;5;28;01mreturn\u001b[39;00m \u001b[38;5;28mself\u001b[39m\u001b[38;5;241m.\u001b[39m_numba_agg_general(sliding_mean, engine_kwargs)\n\u001b[0;32m   1854\u001b[0m \u001b[38;5;28;01melse\u001b[39;00m:\n\u001b[0;32m   1855\u001b[0m     result \u001b[38;5;241m=\u001b[39m \u001b[38;5;28mself\u001b[39m\u001b[38;5;241m.\u001b[39m_cython_agg_general(\n\u001b[0;32m   1856\u001b[0m         \u001b[38;5;124m\"\u001b[39m\u001b[38;5;124mmean\u001b[39m\u001b[38;5;124m\"\u001b[39m,\n\u001b[1;32m-> 1857\u001b[0m         alt\u001b[38;5;241m=\u001b[39m\u001b[38;5;28;01mlambda\u001b[39;00m x: Series(x)\u001b[38;5;241m.\u001b[39mmean(numeric_only\u001b[38;5;241m=\u001b[39mnumeric_only),\n\u001b[0;32m   1858\u001b[0m         numeric_only\u001b[38;5;241m=\u001b[39mnumeric_only,\n\u001b[0;32m   1859\u001b[0m     )\n\u001b[0;32m   1860\u001b[0m     \u001b[38;5;28;01mreturn\u001b[39;00m result\u001b[38;5;241m.\u001b[39m__finalize__(\u001b[38;5;28mself\u001b[39m\u001b[38;5;241m.\u001b[39mobj, method\u001b[38;5;241m=\u001b[39m\u001b[38;5;124m\"\u001b[39m\u001b[38;5;124mgroupby\u001b[39m\u001b[38;5;124m\"\u001b[39m)\n",
      "File \u001b[1;32m~\\anaconda3\\Lib\\site-packages\\pandas\\core\\generic.py:11556\u001b[0m, in \u001b[0;36mNDFrame._add_numeric_operations.<locals>.mean\u001b[1;34m(self, axis, skipna, numeric_only, **kwargs)\u001b[0m\n\u001b[0;32m  11539\u001b[0m \u001b[38;5;129m@doc\u001b[39m(\n\u001b[0;32m  11540\u001b[0m     _num_doc,\n\u001b[0;32m  11541\u001b[0m     desc\u001b[38;5;241m=\u001b[39m\u001b[38;5;124m\"\u001b[39m\u001b[38;5;124mReturn the mean of the values over the requested axis.\u001b[39m\u001b[38;5;124m\"\u001b[39m,\n\u001b[1;32m   (...)\u001b[0m\n\u001b[0;32m  11554\u001b[0m     \u001b[38;5;241m*\u001b[39m\u001b[38;5;241m*\u001b[39mkwargs,\n\u001b[0;32m  11555\u001b[0m ):\n\u001b[1;32m> 11556\u001b[0m     \u001b[38;5;28;01mreturn\u001b[39;00m NDFrame\u001b[38;5;241m.\u001b[39mmean(\u001b[38;5;28mself\u001b[39m, axis, skipna, numeric_only, \u001b[38;5;241m*\u001b[39m\u001b[38;5;241m*\u001b[39mkwargs)\n",
      "File \u001b[1;32m~\\anaconda3\\Lib\\site-packages\\pandas\\core\\generic.py:11201\u001b[0m, in \u001b[0;36mNDFrame.mean\u001b[1;34m(self, axis, skipna, numeric_only, **kwargs)\u001b[0m\n\u001b[0;32m  11194\u001b[0m \u001b[38;5;28;01mdef\u001b[39;00m \u001b[38;5;21mmean\u001b[39m(\n\u001b[0;32m  11195\u001b[0m     \u001b[38;5;28mself\u001b[39m,\n\u001b[0;32m  11196\u001b[0m     axis: Axis \u001b[38;5;241m|\u001b[39m \u001b[38;5;28;01mNone\u001b[39;00m \u001b[38;5;241m=\u001b[39m \u001b[38;5;241m0\u001b[39m,\n\u001b[1;32m   (...)\u001b[0m\n\u001b[0;32m  11199\u001b[0m     \u001b[38;5;241m*\u001b[39m\u001b[38;5;241m*\u001b[39mkwargs,\n\u001b[0;32m  11200\u001b[0m ) \u001b[38;5;241m-\u001b[39m\u001b[38;5;241m>\u001b[39m Series \u001b[38;5;241m|\u001b[39m \u001b[38;5;28mfloat\u001b[39m:\n\u001b[1;32m> 11201\u001b[0m     \u001b[38;5;28;01mreturn\u001b[39;00m \u001b[38;5;28mself\u001b[39m\u001b[38;5;241m.\u001b[39m_stat_function(\n\u001b[0;32m  11202\u001b[0m         \u001b[38;5;124m\"\u001b[39m\u001b[38;5;124mmean\u001b[39m\u001b[38;5;124m\"\u001b[39m, nanops\u001b[38;5;241m.\u001b[39mnanmean, axis, skipna, numeric_only, \u001b[38;5;241m*\u001b[39m\u001b[38;5;241m*\u001b[39mkwargs\n\u001b[0;32m  11203\u001b[0m     )\n",
      "File \u001b[1;32m~\\anaconda3\\Lib\\site-packages\\pandas\\core\\generic.py:11158\u001b[0m, in \u001b[0;36mNDFrame._stat_function\u001b[1;34m(self, name, func, axis, skipna, numeric_only, **kwargs)\u001b[0m\n\u001b[0;32m  11154\u001b[0m     nv\u001b[38;5;241m.\u001b[39mvalidate_stat_func((), kwargs, fname\u001b[38;5;241m=\u001b[39mname)\n\u001b[0;32m  11156\u001b[0m validate_bool_kwarg(skipna, \u001b[38;5;124m\"\u001b[39m\u001b[38;5;124mskipna\u001b[39m\u001b[38;5;124m\"\u001b[39m, none_allowed\u001b[38;5;241m=\u001b[39m\u001b[38;5;28;01mFalse\u001b[39;00m)\n\u001b[1;32m> 11158\u001b[0m \u001b[38;5;28;01mreturn\u001b[39;00m \u001b[38;5;28mself\u001b[39m\u001b[38;5;241m.\u001b[39m_reduce(\n\u001b[0;32m  11159\u001b[0m     func, name\u001b[38;5;241m=\u001b[39mname, axis\u001b[38;5;241m=\u001b[39maxis, skipna\u001b[38;5;241m=\u001b[39mskipna, numeric_only\u001b[38;5;241m=\u001b[39mnumeric_only\n\u001b[0;32m  11160\u001b[0m )\n",
      "File \u001b[1;32m~\\anaconda3\\Lib\\site-packages\\pandas\\core\\series.py:4656\u001b[0m, in \u001b[0;36mSeries._reduce\u001b[1;34m(self, op, name, axis, skipna, numeric_only, filter_type, **kwds)\u001b[0m\n\u001b[0;32m   4652\u001b[0m     \u001b[38;5;28mself\u001b[39m\u001b[38;5;241m.\u001b[39m_get_axis_number(axis)\n\u001b[0;32m   4654\u001b[0m \u001b[38;5;28;01mif\u001b[39;00m \u001b[38;5;28misinstance\u001b[39m(delegate, ExtensionArray):\n\u001b[0;32m   4655\u001b[0m     \u001b[38;5;66;03m# dispatch to ExtensionArray interface\u001b[39;00m\n\u001b[1;32m-> 4656\u001b[0m     \u001b[38;5;28;01mreturn\u001b[39;00m delegate\u001b[38;5;241m.\u001b[39m_reduce(name, skipna\u001b[38;5;241m=\u001b[39mskipna, \u001b[38;5;241m*\u001b[39m\u001b[38;5;241m*\u001b[39mkwds)\n\u001b[0;32m   4658\u001b[0m \u001b[38;5;28;01melse\u001b[39;00m:\n\u001b[0;32m   4659\u001b[0m     \u001b[38;5;66;03m# dispatch to numpy arrays\u001b[39;00m\n\u001b[0;32m   4660\u001b[0m     \u001b[38;5;28;01mif\u001b[39;00m numeric_only \u001b[38;5;129;01mand\u001b[39;00m \u001b[38;5;129;01mnot\u001b[39;00m is_numeric_dtype(\u001b[38;5;28mself\u001b[39m\u001b[38;5;241m.\u001b[39mdtype):\n",
      "File \u001b[1;32m~\\anaconda3\\Lib\\site-packages\\pandas\\core\\arrays\\base.py:1440\u001b[0m, in \u001b[0;36mExtensionArray._reduce\u001b[1;34m(self, name, skipna, **kwargs)\u001b[0m\n\u001b[0;32m   1438\u001b[0m meth \u001b[38;5;241m=\u001b[39m \u001b[38;5;28mgetattr\u001b[39m(\u001b[38;5;28mself\u001b[39m, name, \u001b[38;5;28;01mNone\u001b[39;00m)\n\u001b[0;32m   1439\u001b[0m \u001b[38;5;28;01mif\u001b[39;00m meth \u001b[38;5;129;01mis\u001b[39;00m \u001b[38;5;28;01mNone\u001b[39;00m:\n\u001b[1;32m-> 1440\u001b[0m     \u001b[38;5;28;01mraise\u001b[39;00m \u001b[38;5;167;01mTypeError\u001b[39;00m(\n\u001b[0;32m   1441\u001b[0m         \u001b[38;5;124mf\u001b[39m\u001b[38;5;124m\"\u001b[39m\u001b[38;5;124m'\u001b[39m\u001b[38;5;132;01m{\u001b[39;00m\u001b[38;5;28mtype\u001b[39m(\u001b[38;5;28mself\u001b[39m)\u001b[38;5;241m.\u001b[39m\u001b[38;5;18m__name__\u001b[39m\u001b[38;5;132;01m}\u001b[39;00m\u001b[38;5;124m'\u001b[39m\u001b[38;5;124m with dtype \u001b[39m\u001b[38;5;132;01m{\u001b[39;00m\u001b[38;5;28mself\u001b[39m\u001b[38;5;241m.\u001b[39mdtype\u001b[38;5;132;01m}\u001b[39;00m\u001b[38;5;124m \u001b[39m\u001b[38;5;124m\"\u001b[39m\n\u001b[0;32m   1442\u001b[0m         \u001b[38;5;124mf\u001b[39m\u001b[38;5;124m\"\u001b[39m\u001b[38;5;124mdoes not support reduction \u001b[39m\u001b[38;5;124m'\u001b[39m\u001b[38;5;132;01m{\u001b[39;00mname\u001b[38;5;132;01m}\u001b[39;00m\u001b[38;5;124m'\u001b[39m\u001b[38;5;124m\"\u001b[39m\n\u001b[0;32m   1443\u001b[0m     )\n\u001b[0;32m   1444\u001b[0m \u001b[38;5;28;01mreturn\u001b[39;00m meth(skipna\u001b[38;5;241m=\u001b[39mskipna, \u001b[38;5;241m*\u001b[39m\u001b[38;5;241m*\u001b[39mkwargs)\n",
      "\u001b[1;31mTypeError\u001b[0m: 'Categorical' with dtype category does not support reduction 'mean'"
     ]
    }
   ],
   "source": [
    "df.groupby([\"sex\"]).mean()"
   ]
  },
  {
   "cell_type": "markdown",
   "id": "e5c92f59",
   "metadata": {},
   "source": [
    "## Modificando los datos\n",
    "\n",
    "Hasta ahora sabemos crear datos, importarlos, exportarlos y aprendimos algo sobre describirlos. Pero probablemente tengamos interés en modificarlos u hacer alguna operación con ellos. "
   ]
  },
  {
   "cell_type": "markdown",
   "id": "e2c442b6",
   "metadata": {},
   "source": [
    "Podemos eliminar duplicados"
   ]
  },
  {
   "cell_type": "code",
   "execution_count": 68,
   "id": "0d983dfc",
   "metadata": {},
   "outputs": [
    {
     "data": {
      "text/html": [
       "<div>\n",
       "<style scoped>\n",
       "    .dataframe tbody tr th:only-of-type {\n",
       "        vertical-align: middle;\n",
       "    }\n",
       "\n",
       "    .dataframe tbody tr th {\n",
       "        vertical-align: top;\n",
       "    }\n",
       "\n",
       "    .dataframe thead th {\n",
       "        text-align: right;\n",
       "    }\n",
       "</style>\n",
       "<table border=\"1\" class=\"dataframe\">\n",
       "  <thead>\n",
       "    <tr style=\"text-align: right;\">\n",
       "      <th></th>\n",
       "      <th>patient</th>\n",
       "      <th>sex</th>\n",
       "      <th>agegrp</th>\n",
       "      <th>when</th>\n",
       "      <th>bp</th>\n",
       "    </tr>\n",
       "  </thead>\n",
       "  <tbody>\n",
       "    <tr>\n",
       "      <th>0</th>\n",
       "      <td>1</td>\n",
       "      <td>Male</td>\n",
       "      <td>30-45</td>\n",
       "      <td>Before</td>\n",
       "      <td>143</td>\n",
       "    </tr>\n",
       "    <tr>\n",
       "      <th>1</th>\n",
       "      <td>1</td>\n",
       "      <td>Male</td>\n",
       "      <td>30-45</td>\n",
       "      <td>After</td>\n",
       "      <td>153</td>\n",
       "    </tr>\n",
       "    <tr>\n",
       "      <th>2</th>\n",
       "      <td>2</td>\n",
       "      <td>Male</td>\n",
       "      <td>30-45</td>\n",
       "      <td>Before</td>\n",
       "      <td>163</td>\n",
       "    </tr>\n",
       "    <tr>\n",
       "      <th>3</th>\n",
       "      <td>2</td>\n",
       "      <td>Male</td>\n",
       "      <td>30-45</td>\n",
       "      <td>After</td>\n",
       "      <td>170</td>\n",
       "    </tr>\n",
       "    <tr>\n",
       "      <th>4</th>\n",
       "      <td>3</td>\n",
       "      <td>Male</td>\n",
       "      <td>30-45</td>\n",
       "      <td>Before</td>\n",
       "      <td>153</td>\n",
       "    </tr>\n",
       "    <tr>\n",
       "      <th>...</th>\n",
       "      <td>...</td>\n",
       "      <td>...</td>\n",
       "      <td>...</td>\n",
       "      <td>...</td>\n",
       "      <td>...</td>\n",
       "    </tr>\n",
       "    <tr>\n",
       "      <th>235</th>\n",
       "      <td>118</td>\n",
       "      <td>Female</td>\n",
       "      <td>60+</td>\n",
       "      <td>After</td>\n",
       "      <td>174</td>\n",
       "    </tr>\n",
       "    <tr>\n",
       "      <th>236</th>\n",
       "      <td>119</td>\n",
       "      <td>Female</td>\n",
       "      <td>60+</td>\n",
       "      <td>Before</td>\n",
       "      <td>149</td>\n",
       "    </tr>\n",
       "    <tr>\n",
       "      <th>237</th>\n",
       "      <td>119</td>\n",
       "      <td>Female</td>\n",
       "      <td>60+</td>\n",
       "      <td>After</td>\n",
       "      <td>151</td>\n",
       "    </tr>\n",
       "    <tr>\n",
       "      <th>238</th>\n",
       "      <td>120</td>\n",
       "      <td>Female</td>\n",
       "      <td>60+</td>\n",
       "      <td>Before</td>\n",
       "      <td>185</td>\n",
       "    </tr>\n",
       "    <tr>\n",
       "      <th>239</th>\n",
       "      <td>120</td>\n",
       "      <td>Female</td>\n",
       "      <td>60+</td>\n",
       "      <td>After</td>\n",
       "      <td>163</td>\n",
       "    </tr>\n",
       "  </tbody>\n",
       "</table>\n",
       "<p>240 rows × 5 columns</p>\n",
       "</div>"
      ],
      "text/plain": [
       "     patient     sex agegrp    when   bp\n",
       "0          1    Male  30-45  Before  143\n",
       "1          1    Male  30-45   After  153\n",
       "2          2    Male  30-45  Before  163\n",
       "3          2    Male  30-45   After  170\n",
       "4          3    Male  30-45  Before  153\n",
       "..       ...     ...    ...     ...  ...\n",
       "235      118  Female    60+   After  174\n",
       "236      119  Female    60+  Before  149\n",
       "237      119  Female    60+   After  151\n",
       "238      120  Female    60+  Before  185\n",
       "239      120  Female    60+   After  163\n",
       "\n",
       "[240 rows x 5 columns]"
      ]
     },
     "execution_count": 68,
     "metadata": {},
     "output_type": "execute_result"
    }
   ],
   "source": [
    "df.drop_duplicates()"
   ]
  },
  {
   "cell_type": "markdown",
   "id": "b3771b9a",
   "metadata": {},
   "source": [
    "Podemos ordenar según alguna variable:"
   ]
  },
  {
   "cell_type": "code",
   "execution_count": 69,
   "id": "2a2b941e",
   "metadata": {},
   "outputs": [
    {
     "data": {
      "text/html": [
       "<div>\n",
       "<style scoped>\n",
       "    .dataframe tbody tr th:only-of-type {\n",
       "        vertical-align: middle;\n",
       "    }\n",
       "\n",
       "    .dataframe tbody tr th {\n",
       "        vertical-align: top;\n",
       "    }\n",
       "\n",
       "    .dataframe thead th {\n",
       "        text-align: right;\n",
       "    }\n",
       "</style>\n",
       "<table border=\"1\" class=\"dataframe\">\n",
       "  <thead>\n",
       "    <tr style=\"text-align: right;\">\n",
       "      <th></th>\n",
       "      <th>patient</th>\n",
       "      <th>sex</th>\n",
       "      <th>agegrp</th>\n",
       "      <th>when</th>\n",
       "      <th>bp</th>\n",
       "    </tr>\n",
       "  </thead>\n",
       "  <tbody>\n",
       "    <tr>\n",
       "      <th>19</th>\n",
       "      <td>10</td>\n",
       "      <td>Male</td>\n",
       "      <td>30-45</td>\n",
       "      <td>After</td>\n",
       "      <td>125</td>\n",
       "    </tr>\n",
       "    <tr>\n",
       "      <th>31</th>\n",
       "      <td>16</td>\n",
       "      <td>Male</td>\n",
       "      <td>30-45</td>\n",
       "      <td>After</td>\n",
       "      <td>126</td>\n",
       "    </tr>\n",
       "    <tr>\n",
       "      <th>161</th>\n",
       "      <td>81</td>\n",
       "      <td>Female</td>\n",
       "      <td>46-59</td>\n",
       "      <td>After</td>\n",
       "      <td>127</td>\n",
       "    </tr>\n",
       "    <tr>\n",
       "      <th>137</th>\n",
       "      <td>69</td>\n",
       "      <td>Female</td>\n",
       "      <td>30-45</td>\n",
       "      <td>After</td>\n",
       "      <td>131</td>\n",
       "    </tr>\n",
       "    <tr>\n",
       "      <th>17</th>\n",
       "      <td>9</td>\n",
       "      <td>Male</td>\n",
       "      <td>30-45</td>\n",
       "      <td>After</td>\n",
       "      <td>131</td>\n",
       "    </tr>\n",
       "    <tr>\n",
       "      <th>...</th>\n",
       "      <td>...</td>\n",
       "      <td>...</td>\n",
       "      <td>...</td>\n",
       "      <td>...</td>\n",
       "      <td>...</td>\n",
       "    </tr>\n",
       "    <tr>\n",
       "      <th>67</th>\n",
       "      <td>34</td>\n",
       "      <td>Male</td>\n",
       "      <td>46-59</td>\n",
       "      <td>After</td>\n",
       "      <td>184</td>\n",
       "    </tr>\n",
       "    <tr>\n",
       "      <th>109</th>\n",
       "      <td>55</td>\n",
       "      <td>Male</td>\n",
       "      <td>60+</td>\n",
       "      <td>After</td>\n",
       "      <td>185</td>\n",
       "    </tr>\n",
       "    <tr>\n",
       "      <th>97</th>\n",
       "      <td>49</td>\n",
       "      <td>Male</td>\n",
       "      <td>60+</td>\n",
       "      <td>After</td>\n",
       "      <td>185</td>\n",
       "    </tr>\n",
       "    <tr>\n",
       "      <th>238</th>\n",
       "      <td>120</td>\n",
       "      <td>Female</td>\n",
       "      <td>60+</td>\n",
       "      <td>Before</td>\n",
       "      <td>185</td>\n",
       "    </tr>\n",
       "    <tr>\n",
       "      <th>76</th>\n",
       "      <td>39</td>\n",
       "      <td>Male</td>\n",
       "      <td>46-59</td>\n",
       "      <td>Before</td>\n",
       "      <td>185</td>\n",
       "    </tr>\n",
       "  </tbody>\n",
       "</table>\n",
       "<p>240 rows × 5 columns</p>\n",
       "</div>"
      ],
      "text/plain": [
       "     patient     sex agegrp    when   bp\n",
       "19        10    Male  30-45   After  125\n",
       "31        16    Male  30-45   After  126\n",
       "161       81  Female  46-59   After  127\n",
       "137       69  Female  30-45   After  131\n",
       "17         9    Male  30-45   After  131\n",
       "..       ...     ...    ...     ...  ...\n",
       "67        34    Male  46-59   After  184\n",
       "109       55    Male    60+   After  185\n",
       "97        49    Male    60+   After  185\n",
       "238      120  Female    60+  Before  185\n",
       "76        39    Male  46-59  Before  185\n",
       "\n",
       "[240 rows x 5 columns]"
      ]
     },
     "execution_count": 69,
     "metadata": {},
     "output_type": "execute_result"
    }
   ],
   "source": [
    "#Orden ascendente\n",
    "df.sort_values('bp')"
   ]
  },
  {
   "cell_type": "code",
   "execution_count": 70,
   "id": "e462f55a",
   "metadata": {},
   "outputs": [
    {
     "data": {
      "text/html": [
       "<div>\n",
       "<style scoped>\n",
       "    .dataframe tbody tr th:only-of-type {\n",
       "        vertical-align: middle;\n",
       "    }\n",
       "\n",
       "    .dataframe tbody tr th {\n",
       "        vertical-align: top;\n",
       "    }\n",
       "\n",
       "    .dataframe thead th {\n",
       "        text-align: right;\n",
       "    }\n",
       "</style>\n",
       "<table border=\"1\" class=\"dataframe\">\n",
       "  <thead>\n",
       "    <tr style=\"text-align: right;\">\n",
       "      <th></th>\n",
       "      <th>patient</th>\n",
       "      <th>sex</th>\n",
       "      <th>agegrp</th>\n",
       "      <th>when</th>\n",
       "      <th>bp</th>\n",
       "    </tr>\n",
       "  </thead>\n",
       "  <tbody>\n",
       "    <tr>\n",
       "      <th>97</th>\n",
       "      <td>49</td>\n",
       "      <td>Male</td>\n",
       "      <td>60+</td>\n",
       "      <td>After</td>\n",
       "      <td>185</td>\n",
       "    </tr>\n",
       "    <tr>\n",
       "      <th>238</th>\n",
       "      <td>120</td>\n",
       "      <td>Female</td>\n",
       "      <td>60+</td>\n",
       "      <td>Before</td>\n",
       "      <td>185</td>\n",
       "    </tr>\n",
       "    <tr>\n",
       "      <th>109</th>\n",
       "      <td>55</td>\n",
       "      <td>Male</td>\n",
       "      <td>60+</td>\n",
       "      <td>After</td>\n",
       "      <td>185</td>\n",
       "    </tr>\n",
       "    <tr>\n",
       "      <th>76</th>\n",
       "      <td>39</td>\n",
       "      <td>Male</td>\n",
       "      <td>46-59</td>\n",
       "      <td>Before</td>\n",
       "      <td>185</td>\n",
       "    </tr>\n",
       "    <tr>\n",
       "      <th>67</th>\n",
       "      <td>34</td>\n",
       "      <td>Male</td>\n",
       "      <td>46-59</td>\n",
       "      <td>After</td>\n",
       "      <td>184</td>\n",
       "    </tr>\n",
       "    <tr>\n",
       "      <th>...</th>\n",
       "      <td>...</td>\n",
       "      <td>...</td>\n",
       "      <td>...</td>\n",
       "      <td>...</td>\n",
       "      <td>...</td>\n",
       "    </tr>\n",
       "    <tr>\n",
       "      <th>137</th>\n",
       "      <td>69</td>\n",
       "      <td>Female</td>\n",
       "      <td>30-45</td>\n",
       "      <td>After</td>\n",
       "      <td>131</td>\n",
       "    </tr>\n",
       "    <tr>\n",
       "      <th>129</th>\n",
       "      <td>65</td>\n",
       "      <td>Female</td>\n",
       "      <td>30-45</td>\n",
       "      <td>After</td>\n",
       "      <td>131</td>\n",
       "    </tr>\n",
       "    <tr>\n",
       "      <th>161</th>\n",
       "      <td>81</td>\n",
       "      <td>Female</td>\n",
       "      <td>46-59</td>\n",
       "      <td>After</td>\n",
       "      <td>127</td>\n",
       "    </tr>\n",
       "    <tr>\n",
       "      <th>31</th>\n",
       "      <td>16</td>\n",
       "      <td>Male</td>\n",
       "      <td>30-45</td>\n",
       "      <td>After</td>\n",
       "      <td>126</td>\n",
       "    </tr>\n",
       "    <tr>\n",
       "      <th>19</th>\n",
       "      <td>10</td>\n",
       "      <td>Male</td>\n",
       "      <td>30-45</td>\n",
       "      <td>After</td>\n",
       "      <td>125</td>\n",
       "    </tr>\n",
       "  </tbody>\n",
       "</table>\n",
       "<p>240 rows × 5 columns</p>\n",
       "</div>"
      ],
      "text/plain": [
       "     patient     sex agegrp    when   bp\n",
       "97        49    Male    60+   After  185\n",
       "238      120  Female    60+  Before  185\n",
       "109       55    Male    60+   After  185\n",
       "76        39    Male  46-59  Before  185\n",
       "67        34    Male  46-59   After  184\n",
       "..       ...     ...    ...     ...  ...\n",
       "137       69  Female  30-45   After  131\n",
       "129       65  Female  30-45   After  131\n",
       "161       81  Female  46-59   After  127\n",
       "31        16    Male  30-45   After  126\n",
       "19        10    Male  30-45   After  125\n",
       "\n",
       "[240 rows x 5 columns]"
      ]
     },
     "execution_count": 70,
     "metadata": {},
     "output_type": "execute_result"
    }
   ],
   "source": [
    "#Orden descendente\n",
    "df.sort_values('bp', ascending=False)"
   ]
  },
  {
   "cell_type": "markdown",
   "id": "19554512",
   "metadata": {},
   "source": [
    "En nuestra base de datos el id es el paciente que estamos viendo, puede ser buena idea establecer la variable `patient` como índice. (Notar que me desaparece de las columnas)"
   ]
  },
  {
   "cell_type": "code",
   "execution_count": 71,
   "id": "c7cc61c9",
   "metadata": {},
   "outputs": [
    {
     "name": "stdout",
     "output_type": "stream",
     "text": [
      "            sex agegrp    when   bp\n",
      "patient                            \n",
      "1          Male  30-45  Before  143\n",
      "1          Male  30-45   After  153\n",
      "2          Male  30-45  Before  163\n",
      "2          Male  30-45   After  170\n",
      "3          Male  30-45  Before  153\n",
      "...         ...    ...     ...  ...\n",
      "118      Female    60+   After  174\n",
      "119      Female    60+  Before  149\n",
      "119      Female    60+   After  151\n",
      "120      Female    60+  Before  185\n",
      "120      Female    60+   After  163\n",
      "\n",
      "[240 rows x 4 columns]\n"
     ]
    }
   ],
   "source": [
    "df = df.set_index('patient')\n",
    "print(df)"
   ]
  },
  {
   "cell_type": "markdown",
   "id": "fa6e4db9",
   "metadata": {},
   "source": [
    "Lo anterior puede interesarnos por ejemplo para poder **encontrar** al paciente n, para el que tenemos más de una observación (en este caso before y after) y ambas tienen el mismo **índice**. Lo haremos con la función `loc`:"
   ]
  },
  {
   "cell_type": "code",
   "execution_count": 72,
   "id": "e66acfe8",
   "metadata": {
    "scrolled": true
   },
   "outputs": [
    {
     "data": {
      "text/html": [
       "<div>\n",
       "<style scoped>\n",
       "    .dataframe tbody tr th:only-of-type {\n",
       "        vertical-align: middle;\n",
       "    }\n",
       "\n",
       "    .dataframe tbody tr th {\n",
       "        vertical-align: top;\n",
       "    }\n",
       "\n",
       "    .dataframe thead th {\n",
       "        text-align: right;\n",
       "    }\n",
       "</style>\n",
       "<table border=\"1\" class=\"dataframe\">\n",
       "  <thead>\n",
       "    <tr style=\"text-align: right;\">\n",
       "      <th></th>\n",
       "      <th>sex</th>\n",
       "      <th>agegrp</th>\n",
       "      <th>when</th>\n",
       "      <th>bp</th>\n",
       "    </tr>\n",
       "    <tr>\n",
       "      <th>patient</th>\n",
       "      <th></th>\n",
       "      <th></th>\n",
       "      <th></th>\n",
       "      <th></th>\n",
       "    </tr>\n",
       "  </thead>\n",
       "  <tbody>\n",
       "    <tr>\n",
       "      <th>1</th>\n",
       "      <td>Male</td>\n",
       "      <td>30-45</td>\n",
       "      <td>Before</td>\n",
       "      <td>143</td>\n",
       "    </tr>\n",
       "    <tr>\n",
       "      <th>1</th>\n",
       "      <td>Male</td>\n",
       "      <td>30-45</td>\n",
       "      <td>After</td>\n",
       "      <td>153</td>\n",
       "    </tr>\n",
       "  </tbody>\n",
       "</table>\n",
       "</div>"
      ],
      "text/plain": [
       "          sex agegrp    when   bp\n",
       "patient                          \n",
       "1        Male  30-45  Before  143\n",
       "1        Male  30-45   After  153"
      ]
     },
     "execution_count": 72,
     "metadata": {},
     "output_type": "execute_result"
    }
   ],
   "source": [
    "df.loc[1]"
   ]
  },
  {
   "cell_type": "markdown",
   "id": "ee9002ff",
   "metadata": {},
   "source": [
    "También nos puede interesar quedarnos con una **posición** en particular"
   ]
  },
  {
   "cell_type": "code",
   "execution_count": 77,
   "id": "6b0c23da",
   "metadata": {},
   "outputs": [
    {
     "data": {
      "text/plain": [
       "sex         Male\n",
       "agegrp     30-45\n",
       "when      Before\n",
       "bp           143\n",
       "Name: 1, dtype: object"
      ]
     },
     "execution_count": 77,
     "metadata": {},
     "output_type": "execute_result"
    }
   ],
   "source": [
    "df.iloc[0]"
   ]
  },
  {
   "cell_type": "markdown",
   "id": "2b274173",
   "metadata": {},
   "source": [
    "Quizás nos interesa quedarnos con los índices hasta un valor:"
   ]
  },
  {
   "cell_type": "code",
   "execution_count": 78,
   "id": "d1e58f9e",
   "metadata": {
    "scrolled": true
   },
   "outputs": [
    {
     "data": {
      "text/html": [
       "<div>\n",
       "<style scoped>\n",
       "    .dataframe tbody tr th:only-of-type {\n",
       "        vertical-align: middle;\n",
       "    }\n",
       "\n",
       "    .dataframe tbody tr th {\n",
       "        vertical-align: top;\n",
       "    }\n",
       "\n",
       "    .dataframe thead th {\n",
       "        text-align: right;\n",
       "    }\n",
       "</style>\n",
       "<table border=\"1\" class=\"dataframe\">\n",
       "  <thead>\n",
       "    <tr style=\"text-align: right;\">\n",
       "      <th></th>\n",
       "      <th>sex</th>\n",
       "      <th>agegrp</th>\n",
       "      <th>when</th>\n",
       "      <th>bp</th>\n",
       "    </tr>\n",
       "    <tr>\n",
       "      <th>patient</th>\n",
       "      <th></th>\n",
       "      <th></th>\n",
       "      <th></th>\n",
       "      <th></th>\n",
       "    </tr>\n",
       "  </thead>\n",
       "  <tbody>\n",
       "    <tr>\n",
       "      <th>1</th>\n",
       "      <td>Male</td>\n",
       "      <td>30-45</td>\n",
       "      <td>Before</td>\n",
       "      <td>143</td>\n",
       "    </tr>\n",
       "    <tr>\n",
       "      <th>1</th>\n",
       "      <td>Male</td>\n",
       "      <td>30-45</td>\n",
       "      <td>After</td>\n",
       "      <td>153</td>\n",
       "    </tr>\n",
       "    <tr>\n",
       "      <th>2</th>\n",
       "      <td>Male</td>\n",
       "      <td>30-45</td>\n",
       "      <td>Before</td>\n",
       "      <td>163</td>\n",
       "    </tr>\n",
       "    <tr>\n",
       "      <th>2</th>\n",
       "      <td>Male</td>\n",
       "      <td>30-45</td>\n",
       "      <td>After</td>\n",
       "      <td>170</td>\n",
       "    </tr>\n",
       "    <tr>\n",
       "      <th>3</th>\n",
       "      <td>Male</td>\n",
       "      <td>30-45</td>\n",
       "      <td>Before</td>\n",
       "      <td>153</td>\n",
       "    </tr>\n",
       "    <tr>\n",
       "      <th>3</th>\n",
       "      <td>Male</td>\n",
       "      <td>30-45</td>\n",
       "      <td>After</td>\n",
       "      <td>168</td>\n",
       "    </tr>\n",
       "  </tbody>\n",
       "</table>\n",
       "</div>"
      ],
      "text/plain": [
       "          sex agegrp    when   bp\n",
       "patient                          \n",
       "1        Male  30-45  Before  143\n",
       "1        Male  30-45   After  153\n",
       "2        Male  30-45  Before  163\n",
       "2        Male  30-45   After  170\n",
       "3        Male  30-45  Before  153\n",
       "3        Male  30-45   After  168"
      ]
     },
     "execution_count": 78,
     "metadata": {},
     "output_type": "execute_result"
    }
   ],
   "source": [
    "df.loc[:3]"
   ]
  },
  {
   "cell_type": "markdown",
   "id": "dbaa41e4",
   "metadata": {},
   "source": [
    "Notar que en el ejemplo anterior, me toma los índices **hasta el 3 inclusive**. En el siguiente tomará desde el 117 en adelante."
   ]
  },
  {
   "cell_type": "code",
   "execution_count": 79,
   "id": "c722f85a",
   "metadata": {},
   "outputs": [
    {
     "data": {
      "text/html": [
       "<div>\n",
       "<style scoped>\n",
       "    .dataframe tbody tr th:only-of-type {\n",
       "        vertical-align: middle;\n",
       "    }\n",
       "\n",
       "    .dataframe tbody tr th {\n",
       "        vertical-align: top;\n",
       "    }\n",
       "\n",
       "    .dataframe thead th {\n",
       "        text-align: right;\n",
       "    }\n",
       "</style>\n",
       "<table border=\"1\" class=\"dataframe\">\n",
       "  <thead>\n",
       "    <tr style=\"text-align: right;\">\n",
       "      <th></th>\n",
       "      <th>sex</th>\n",
       "      <th>agegrp</th>\n",
       "      <th>when</th>\n",
       "      <th>bp</th>\n",
       "    </tr>\n",
       "    <tr>\n",
       "      <th>patient</th>\n",
       "      <th></th>\n",
       "      <th></th>\n",
       "      <th></th>\n",
       "      <th></th>\n",
       "    </tr>\n",
       "  </thead>\n",
       "  <tbody>\n",
       "    <tr>\n",
       "      <th>117</th>\n",
       "      <td>Female</td>\n",
       "      <td>60+</td>\n",
       "      <td>Before</td>\n",
       "      <td>161</td>\n",
       "    </tr>\n",
       "    <tr>\n",
       "      <th>117</th>\n",
       "      <td>Female</td>\n",
       "      <td>60+</td>\n",
       "      <td>After</td>\n",
       "      <td>152</td>\n",
       "    </tr>\n",
       "    <tr>\n",
       "      <th>118</th>\n",
       "      <td>Female</td>\n",
       "      <td>60+</td>\n",
       "      <td>Before</td>\n",
       "      <td>165</td>\n",
       "    </tr>\n",
       "    <tr>\n",
       "      <th>118</th>\n",
       "      <td>Female</td>\n",
       "      <td>60+</td>\n",
       "      <td>After</td>\n",
       "      <td>174</td>\n",
       "    </tr>\n",
       "    <tr>\n",
       "      <th>119</th>\n",
       "      <td>Female</td>\n",
       "      <td>60+</td>\n",
       "      <td>Before</td>\n",
       "      <td>149</td>\n",
       "    </tr>\n",
       "    <tr>\n",
       "      <th>119</th>\n",
       "      <td>Female</td>\n",
       "      <td>60+</td>\n",
       "      <td>After</td>\n",
       "      <td>151</td>\n",
       "    </tr>\n",
       "    <tr>\n",
       "      <th>120</th>\n",
       "      <td>Female</td>\n",
       "      <td>60+</td>\n",
       "      <td>Before</td>\n",
       "      <td>185</td>\n",
       "    </tr>\n",
       "    <tr>\n",
       "      <th>120</th>\n",
       "      <td>Female</td>\n",
       "      <td>60+</td>\n",
       "      <td>After</td>\n",
       "      <td>163</td>\n",
       "    </tr>\n",
       "  </tbody>\n",
       "</table>\n",
       "</div>"
      ],
      "text/plain": [
       "            sex agegrp    when   bp\n",
       "patient                            \n",
       "117      Female    60+  Before  161\n",
       "117      Female    60+   After  152\n",
       "118      Female    60+  Before  165\n",
       "118      Female    60+   After  174\n",
       "119      Female    60+  Before  149\n",
       "119      Female    60+   After  151\n",
       "120      Female    60+  Before  185\n",
       "120      Female    60+   After  163"
      ]
     },
     "execution_count": 79,
     "metadata": {},
     "output_type": "execute_result"
    }
   ],
   "source": [
    "df.loc[117:]"
   ]
  },
  {
   "cell_type": "markdown",
   "id": "56ba6980",
   "metadata": {},
   "source": [
    "Si quisiéramos convertir de vuelta a patient en una variable:"
   ]
  },
  {
   "cell_type": "code",
   "execution_count": 80,
   "id": "8d4b85c6",
   "metadata": {},
   "outputs": [
    {
     "data": {
      "text/html": [
       "<div>\n",
       "<style scoped>\n",
       "    .dataframe tbody tr th:only-of-type {\n",
       "        vertical-align: middle;\n",
       "    }\n",
       "\n",
       "    .dataframe tbody tr th {\n",
       "        vertical-align: top;\n",
       "    }\n",
       "\n",
       "    .dataframe thead th {\n",
       "        text-align: right;\n",
       "    }\n",
       "</style>\n",
       "<table border=\"1\" class=\"dataframe\">\n",
       "  <thead>\n",
       "    <tr style=\"text-align: right;\">\n",
       "      <th></th>\n",
       "      <th>sex</th>\n",
       "      <th>agegrp</th>\n",
       "      <th>when</th>\n",
       "      <th>bp</th>\n",
       "      <th>Pacient</th>\n",
       "    </tr>\n",
       "    <tr>\n",
       "      <th>patient</th>\n",
       "      <th></th>\n",
       "      <th></th>\n",
       "      <th></th>\n",
       "      <th></th>\n",
       "      <th></th>\n",
       "    </tr>\n",
       "  </thead>\n",
       "  <tbody>\n",
       "    <tr>\n",
       "      <th>1</th>\n",
       "      <td>Male</td>\n",
       "      <td>30-45</td>\n",
       "      <td>Before</td>\n",
       "      <td>143</td>\n",
       "      <td>1</td>\n",
       "    </tr>\n",
       "    <tr>\n",
       "      <th>1</th>\n",
       "      <td>Male</td>\n",
       "      <td>30-45</td>\n",
       "      <td>After</td>\n",
       "      <td>153</td>\n",
       "      <td>1</td>\n",
       "    </tr>\n",
       "    <tr>\n",
       "      <th>2</th>\n",
       "      <td>Male</td>\n",
       "      <td>30-45</td>\n",
       "      <td>Before</td>\n",
       "      <td>163</td>\n",
       "      <td>2</td>\n",
       "    </tr>\n",
       "    <tr>\n",
       "      <th>2</th>\n",
       "      <td>Male</td>\n",
       "      <td>30-45</td>\n",
       "      <td>After</td>\n",
       "      <td>170</td>\n",
       "      <td>2</td>\n",
       "    </tr>\n",
       "    <tr>\n",
       "      <th>3</th>\n",
       "      <td>Male</td>\n",
       "      <td>30-45</td>\n",
       "      <td>Before</td>\n",
       "      <td>153</td>\n",
       "      <td>3</td>\n",
       "    </tr>\n",
       "    <tr>\n",
       "      <th>...</th>\n",
       "      <td>...</td>\n",
       "      <td>...</td>\n",
       "      <td>...</td>\n",
       "      <td>...</td>\n",
       "      <td>...</td>\n",
       "    </tr>\n",
       "    <tr>\n",
       "      <th>118</th>\n",
       "      <td>Female</td>\n",
       "      <td>60+</td>\n",
       "      <td>After</td>\n",
       "      <td>174</td>\n",
       "      <td>118</td>\n",
       "    </tr>\n",
       "    <tr>\n",
       "      <th>119</th>\n",
       "      <td>Female</td>\n",
       "      <td>60+</td>\n",
       "      <td>Before</td>\n",
       "      <td>149</td>\n",
       "      <td>119</td>\n",
       "    </tr>\n",
       "    <tr>\n",
       "      <th>119</th>\n",
       "      <td>Female</td>\n",
       "      <td>60+</td>\n",
       "      <td>After</td>\n",
       "      <td>151</td>\n",
       "      <td>119</td>\n",
       "    </tr>\n",
       "    <tr>\n",
       "      <th>120</th>\n",
       "      <td>Female</td>\n",
       "      <td>60+</td>\n",
       "      <td>Before</td>\n",
       "      <td>185</td>\n",
       "      <td>120</td>\n",
       "    </tr>\n",
       "    <tr>\n",
       "      <th>120</th>\n",
       "      <td>Female</td>\n",
       "      <td>60+</td>\n",
       "      <td>After</td>\n",
       "      <td>163</td>\n",
       "      <td>120</td>\n",
       "    </tr>\n",
       "  </tbody>\n",
       "</table>\n",
       "<p>240 rows × 5 columns</p>\n",
       "</div>"
      ],
      "text/plain": [
       "            sex agegrp    when   bp  Pacient\n",
       "patient                                     \n",
       "1          Male  30-45  Before  143        1\n",
       "1          Male  30-45   After  153        1\n",
       "2          Male  30-45  Before  163        2\n",
       "2          Male  30-45   After  170        2\n",
       "3          Male  30-45  Before  153        3\n",
       "...         ...    ...     ...  ...      ...\n",
       "118      Female    60+   After  174      118\n",
       "119      Female    60+  Before  149      119\n",
       "119      Female    60+   After  151      119\n",
       "120      Female    60+  Before  185      120\n",
       "120      Female    60+   After  163      120\n",
       "\n",
       "[240 rows x 5 columns]"
      ]
     },
     "execution_count": 80,
     "metadata": {},
     "output_type": "execute_result"
    }
   ],
   "source": [
    "df['Pacient'] = df.index\n",
    "df"
   ]
  },
  {
   "cell_type": "markdown",
   "id": "d35372fe",
   "metadata": {},
   "source": [
    "Y si quiero volver los índices al default también lo puedo hacer usando `reset_index()` (en nuestro caso sería `df.reset_index()`"
   ]
  },
  {
   "cell_type": "markdown",
   "id": "080a4490",
   "metadata": {},
   "source": [
    "Puede interesarnos crear una nueva variable, a partir de una condición de otra variable."
   ]
  },
  {
   "cell_type": "code",
   "execution_count": null,
   "id": "3c60714d",
   "metadata": {
    "scrolled": false
   },
   "outputs": [],
   "source": [
    "\n",
    "def calcular_riesgo(bp):\n",
    "    if bp > 170:\n",
    "        return 1\n",
    "    else:\n",
    "        return 0\n",
    "\n",
    "\n",
    "df['riesgo'] = df['bp'].apply(calcular_riesgo)\n",
    "print(df)"
   ]
  },
  {
   "cell_type": "markdown",
   "id": "d6c82e89",
   "metadata": {},
   "source": [
    "Quizás nos interese crear variables más sencillas"
   ]
  },
  {
   "cell_type": "code",
   "execution_count": null,
   "id": "ac0b5d7a",
   "metadata": {
    "scrolled": false
   },
   "outputs": [],
   "source": [
    "#Si queremos darle el mismo valor a toda la serie\n",
    "df[\"diabetic\"]=False \n",
    "df"
   ]
  },
  {
   "cell_type": "markdown",
   "id": "5ec822bb",
   "metadata": {},
   "source": [
    "Puede que queramos eliminar una variable"
   ]
  },
  {
   "cell_type": "code",
   "execution_count": null,
   "id": "b8366301",
   "metadata": {},
   "outputs": [],
   "source": [
    "df = df.drop(\"diabetic\", axis=1)\n",
    "df"
   ]
  },
  {
   "cell_type": "markdown",
   "id": "34f3120f",
   "metadata": {},
   "source": [
    "Axis=1 implica las columnas, axis=0 son las filas."
   ]
  },
  {
   "cell_type": "code",
   "execution_count": null,
   "id": "7b83e46d",
   "metadata": {
    "scrolled": false
   },
   "outputs": [],
   "source": [
    "# transformamos la columna a minusculas\n",
    "df[\"when\"] = df[\"when\"].str.lower()\n",
    "df"
   ]
  },
  {
   "cell_type": "markdown",
   "id": "a137e6f7",
   "metadata": {},
   "source": [
    "Puede que me interese asignar etiquetas a las variables:"
   ]
  },
  {
   "cell_type": "markdown",
   "id": "ae160d3d",
   "metadata": {},
   "source": [
    "Puede interesarnos quedarnos con una parte del dataframe, tomando una **muestra aleatoria**. Para esto usaremos `.sample(frac=0.2)` por ejemplo, para dar cuenta que queremos quedarnos con el 20% de la muestra. "
   ]
  },
  {
   "cell_type": "code",
   "execution_count": null,
   "id": "99b9fe5e",
   "metadata": {
    "scrolled": false
   },
   "outputs": [],
   "source": [
    "df_sample=df.sample(frac=0.05)\n",
    "df_sample.describe"
   ]
  },
  {
   "cell_type": "markdown",
   "id": "2c75c05d",
   "metadata": {},
   "source": [
    "# Valores missing\n",
    "\n",
    "Como sabemos, muchas veces trabajamos con bases de datos que tienen valores missings. En primer lugar es importante poder saber que los enemos, para luego saber cómo trabajar con ellos. "
   ]
  },
  {
   "cell_type": "code",
   "execution_count": null,
   "id": "6e7d3df9",
   "metadata": {},
   "outputs": [],
   "source": [
    "dataset.info()"
   ]
  },
  {
   "cell_type": "markdown",
   "id": "5d4bdbb7",
   "metadata": {},
   "source": [
    "Notar que en la variable kilometraje tenemos 203 valores non-null, contra 258 de las otras columnas. Miremos más en detalle qué sucede utilizando la función `isna()` para identificar los datos ausentes: "
   ]
  },
  {
   "cell_type": "code",
   "execution_count": null,
   "id": "ad9efdcd",
   "metadata": {},
   "outputs": [],
   "source": [
    "dataset[dataset.Kilometraje.isna()]"
   ]
  },
  {
   "cell_type": "markdown",
   "id": "4f31d8c0",
   "metadata": {},
   "source": [
    "La coincidencia es que todos los missings en km son los autos nuevos. Entonces, puede ser buena idea transformar esos valores NaN en 0. Lo haremos utilizando la función `fillna()`\n",
    "\n",
    "Para [leer más](https://pandas.pydata.org/pandas-docs/stable/reference/api/pandas.DataFrame.fillna.html) sobre esta opción"
   ]
  },
  {
   "cell_type": "code",
   "execution_count": null,
   "id": "2524fb02",
   "metadata": {},
   "outputs": [],
   "source": [
    "dataset.fillna(value = {'Kilometraje': 0}, inplace = True)\n",
    "dataset"
   ]
  },
  {
   "cell_type": "markdown",
   "id": "97c40929",
   "metadata": {},
   "source": [
    "Notar que Kilometraje no era la única variable con problemas. Veamos qué sucede con la columna Valor."
   ]
  },
  {
   "cell_type": "code",
   "execution_count": null,
   "id": "71c592d6",
   "metadata": {},
   "outputs": [],
   "source": [
    "dataset[dataset.Valor.isna()]"
   ]
  },
  {
   "cell_type": "code",
   "execution_count": null,
   "id": "52c01492",
   "metadata": {},
   "outputs": [],
   "source": [
    "dataset[\"Valor\"].describe()"
   ]
  },
  {
   "cell_type": "markdown",
   "id": "59dc5290",
   "metadata": {},
   "source": [
    "Como vemos, tenemos valores -999999, lo que muchas veces se usa para especificar missings, y que puede ser buena idea modificar. Primero, convirtámoslos en missings.\n"
   ]
  },
  {
   "cell_type": "code",
   "execution_count": null,
   "id": "ea5ac99c",
   "metadata": {},
   "outputs": [],
   "source": [
    "dataset[\"Valor\"].replace(-999999, np.nan, inplace = True)\n",
    "dataset[\"Valor\"].describe()"
   ]
  },
  {
   "cell_type": "markdown",
   "id": "02bcca95",
   "metadata": {},
   "source": [
    "Puede que ahora queramos eliminar las opciones con missings, eso lo haremos con la función `drop.na()`"
   ]
  },
  {
   "cell_type": "code",
   "execution_count": null,
   "id": "6c5b46bd",
   "metadata": {},
   "outputs": [],
   "source": [
    "dataset.dropna(subset = ['Valor'], inplace = True)\n",
    "dataset.info()"
   ]
  },
  {
   "cell_type": "code",
   "execution_count": null,
   "id": "b50cbd2b",
   "metadata": {},
   "outputs": [],
   "source": [
    "dataset"
   ]
  },
  {
   "cell_type": "markdown",
   "id": "9be0a4ee",
   "metadata": {},
   "source": [
    "# <CENTER> INTRODUCCIÓN A GRÁFICOS\n",
    "    \n",
    " Una de las bibliotecas que usaremos para graficar es `matplotlib`. Debemos importarla."
   ]
  },
  {
   "cell_type": "code",
   "execution_count": null,
   "id": "61e5ac23",
   "metadata": {},
   "outputs": [],
   "source": [
    "import matplotlib.pyplot as plt"
   ]
  },
  {
   "cell_type": "code",
   "execution_count": null,
   "id": "4895ded9",
   "metadata": {},
   "outputs": [],
   "source": [
    "dir(plt)"
   ]
  },
  {
   "cell_type": "code",
   "execution_count": null,
   "id": "871a243a",
   "metadata": {},
   "outputs": [],
   "source": [
    "dataset[\"Kilometraje\"].hist()"
   ]
  },
  {
   "cell_type": "markdown",
   "id": "823292de",
   "metadata": {},
   "source": [
    "Trabajaremos con gráficos más en profundidad la clase que viene."
   ]
  },
  {
   "cell_type": "markdown",
   "id": "991c0557",
   "metadata": {},
   "source": [
    "# <CENTER> EJERCICIOS \n",
    "\n",
    "   ### Para resolver en grupo: \n",
    "    \n",
    "   ### Elijan una de las siguientes tareas: \n",
    "    \n",
    "    \n",
    "- **Municipios 1:** \n",
    "    \n",
    "\n",
    "    - Importar la base de municipios disponible en la carpeta de clase 2.\n",
    "    \n",
    "    - generar la variable de recaudación como la suma de las variables de las tasas (abl, tish, red vial) y multiplicada por un millón. \n",
    "    \n",
    "    - generar la recaudación per cápita.\n",
    "    \n",
    "\n",
    "    \n",
    "- **Municipios 2:** \n",
    "    \n",
    "    \n",
    "    - Importar la base de municipios disponible en la carpeta de clase 2.\n",
    "    \n",
    "    - Calcular cuántas personas tienen internet en el municipio.\n",
    "    \n",
    "    - Calcular la media de personas con internet según la actividad económica principal de los municipios. \n",
    "    \n",
    "    \n",
    "- **Bucles 1:**\n",
    "    \n",
    "    Crear un bucle donde el cajero de un comercio tenga que ingresar los valores de las distintas ventas que se hacen en el día. Los montos negativos no son válidos y deben avisarse al usuario. El bucle va acumulando los valores de las ventas del día. \n",
    "Al final del día, debe ingresar el valor 0 para cerrar la caja, y el programa devolverá el total recaudado.   \n",
    "    \n",
    "    \n",
    "- **Bucles 2:** \n",
    "    \n",
    "    Sean 2.3, 3.0, 2.5, 2.8, 2.1, 2.9, 3.2, 3.5, 2.7, 3.3 las tasas de crecimiento anuales del PBI de un país cuyo PBI inicial era de 1000 para los próximos 10 años. Calcule el PBI final y la tasa de crecimiento promedio."
   ]
  }
 ],
 "metadata": {
  "kernelspec": {
   "display_name": "Python 3 (ipykernel)",
   "language": "python",
   "name": "python3"
  },
  "language_info": {
   "codemirror_mode": {
    "name": "ipython",
    "version": 3
   },
   "file_extension": ".py",
   "mimetype": "text/x-python",
   "name": "python",
   "nbconvert_exporter": "python",
   "pygments_lexer": "ipython3",
   "version": "3.11.5"
  }
 },
 "nbformat": 4,
 "nbformat_minor": 5
}
